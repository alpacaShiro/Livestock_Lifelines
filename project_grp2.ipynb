{
 "cells": [
  {
   "cell_type": "markdown",
   "id": "016ae71b-b8ab-4046-bf26-cfc90a295966",
   "metadata": {},
   "source": [
    "# CS_ELEC3C PROJECT - GROUP 2 (4CSC)"
   ]
  },
  {
   "cell_type": "markdown",
   "id": "2acfa31f-1567-45a4-9556-b86407c537fc",
   "metadata": {},
   "source": [
    "- Balangeg, Kyle\n",
    "- Cruz, Dwight Kenneth\n",
    "- De Lara, Aaron Charles\n",
    "- Gaano, Rex Allaire\n",
    "- Ng, Alyza Paige"
   ]
  },
  {
   "cell_type": "markdown",
   "id": "ad527282-6270-4be2-b92e-e2194639292e",
   "metadata": {},
   "source": [
    "### Initial Update:\n",
    "- Added Data Cleaning\n",
    "- Added Feature Engineering\n",
    "\n",
    "### To do list:\n",
    "- Check the data cleaning part\n",
    "- Check and add more feature engineering\n",
    "- Data Exploration\n",
    "- Visualizations"
   ]
  },
  {
   "cell_type": "markdown",
   "id": "b850a5b0-24e6-4e38-ac52-e0c255c52627",
   "metadata": {},
   "source": [
    "## Part 1: Data Wrangling"
   ]
  },
  {
   "cell_type": "markdown",
   "id": "663c1056-b04b-4e7b-a460-52ad5cf351bc",
   "metadata": {},
   "source": [
    "### 1.1 Data Cleaning"
   ]
  },
  {
   "cell_type": "markdown",
   "id": "22961c09-3fe4-4708-81e0-404d3fb5fe01",
   "metadata": {},
   "source": [
    "#### ➡️ Load the dataset into Pandas dataframe"
   ]
  },
  {
   "cell_type": "code",
   "execution_count": 1,
   "id": "f120da8f-1c2d-4131-abb1-36493ee2ebb3",
   "metadata": {},
   "outputs": [],
   "source": [
    "# Importing libraries\n",
    "%matplotlib inline\n",
    "import numpy as np\n",
    "import pandas as pd\n",
    "import matplotlib.pyplot as plt\n",
    "import warnings\n",
    "\n",
    "# Ignore warnings\n",
    "warnings.simplefilter(action='ignore', category=FutureWarning)"
   ]
  },
  {
   "cell_type": "code",
   "execution_count": 2,
   "id": "406b75ce-baa5-4b61-9f88-5799d201b33c",
   "metadata": {},
   "outputs": [],
   "source": [
    "# Importing the dataset\n",
    "df_livestock = pd.read_csv('2E4FINL0.csv', header=1)"
   ]
  },
  {
   "cell_type": "markdown",
   "id": "1ca3ec58-41ad-46e3-86a3-b2cfdd29fd87",
   "metadata": {},
   "source": [
    "#### ➡️ Inspect the data"
   ]
  },
  {
   "cell_type": "code",
   "execution_count": 3,
   "id": "79a4a236-421a-4dcf-9b84-859777abfc49",
   "metadata": {},
   "outputs": [
    {
     "data": {
      "text/html": [
       "<div>\n",
       "<style scoped>\n",
       "    .dataframe tbody tr th:only-of-type {\n",
       "        vertical-align: middle;\n",
       "    }\n",
       "\n",
       "    .dataframe tbody tr th {\n",
       "        vertical-align: top;\n",
       "    }\n",
       "\n",
       "    .dataframe thead th {\n",
       "        text-align: right;\n",
       "    }\n",
       "</style>\n",
       "<table border=\"1\" class=\"dataframe\">\n",
       "  <thead>\n",
       "    <tr style=\"text-align: right;\">\n",
       "      <th></th>\n",
       "      <th>Animal Type</th>\n",
       "      <th>Farm Type</th>\n",
       "      <th>Geolocation</th>\n",
       "      <th>1994 01 January</th>\n",
       "      <th>1994 01 April</th>\n",
       "      <th>1994 01 July</th>\n",
       "      <th>1994 01 October</th>\n",
       "      <th>1995 01 January</th>\n",
       "      <th>1995 01 April</th>\n",
       "      <th>1995 01 July</th>\n",
       "      <th>...</th>\n",
       "      <th>2021 01 July</th>\n",
       "      <th>2021 01 October</th>\n",
       "      <th>2022 01 January</th>\n",
       "      <th>2022 01 April</th>\n",
       "      <th>2022 01 July</th>\n",
       "      <th>2022 01 October</th>\n",
       "      <th>2023 01 January</th>\n",
       "      <th>2023 01 April</th>\n",
       "      <th>2023 01 July</th>\n",
       "      <th>2023 01 October</th>\n",
       "    </tr>\n",
       "  </thead>\n",
       "  <tbody>\n",
       "    <tr>\n",
       "      <th>0</th>\n",
       "      <td>Carabao</td>\n",
       "      <td>Backyard</td>\n",
       "      <td>PHILIPPINES</td>\n",
       "      <td>2555492</td>\n",
       "      <td>..</td>\n",
       "      <td>2664806</td>\n",
       "      <td>..</td>\n",
       "      <td>2702325</td>\n",
       "      <td>..</td>\n",
       "      <td>2832240</td>\n",
       "      <td>...</td>\n",
       "      <td>2837583</td>\n",
       "      <td>..</td>\n",
       "      <td>2769604</td>\n",
       "      <td>2766991</td>\n",
       "      <td>2762309</td>\n",
       "      <td>2781425</td>\n",
       "      <td>2766009</td>\n",
       "      <td>..</td>\n",
       "      <td>..</td>\n",
       "      <td>..</td>\n",
       "    </tr>\n",
       "    <tr>\n",
       "      <th>1</th>\n",
       "      <td>Carabao</td>\n",
       "      <td>Backyard</td>\n",
       "      <td>National Capital Region (NCR)</td>\n",
       "      <td>..</td>\n",
       "      <td>..</td>\n",
       "      <td>..</td>\n",
       "      <td>..</td>\n",
       "      <td>..</td>\n",
       "      <td>..</td>\n",
       "      <td>..</td>\n",
       "      <td>...</td>\n",
       "      <td>..</td>\n",
       "      <td>..</td>\n",
       "      <td>..</td>\n",
       "      <td>..</td>\n",
       "      <td>..</td>\n",
       "      <td>..</td>\n",
       "      <td>..</td>\n",
       "      <td>..</td>\n",
       "      <td>..</td>\n",
       "      <td>..</td>\n",
       "    </tr>\n",
       "    <tr>\n",
       "      <th>2</th>\n",
       "      <td>Carabao</td>\n",
       "      <td>Backyard</td>\n",
       "      <td>Cordillera Administrative Region (CAR)</td>\n",
       "      <td>89882</td>\n",
       "      <td>..</td>\n",
       "      <td>97573</td>\n",
       "      <td>..</td>\n",
       "      <td>99245</td>\n",
       "      <td>..</td>\n",
       "      <td>115566</td>\n",
       "      <td>...</td>\n",
       "      <td>78747</td>\n",
       "      <td>..</td>\n",
       "      <td>77218</td>\n",
       "      <td>77605</td>\n",
       "      <td>78637</td>\n",
       "      <td>79207</td>\n",
       "      <td>78579</td>\n",
       "      <td>..</td>\n",
       "      <td>..</td>\n",
       "      <td>..</td>\n",
       "    </tr>\n",
       "    <tr>\n",
       "      <th>3</th>\n",
       "      <td>Carabao</td>\n",
       "      <td>Backyard</td>\n",
       "      <td>....Abra</td>\n",
       "      <td>24784</td>\n",
       "      <td>..</td>\n",
       "      <td>25952</td>\n",
       "      <td>..</td>\n",
       "      <td>26377</td>\n",
       "      <td>..</td>\n",
       "      <td>35461</td>\n",
       "      <td>...</td>\n",
       "      <td>16408</td>\n",
       "      <td>..</td>\n",
       "      <td>17475</td>\n",
       "      <td>18075</td>\n",
       "      <td>17996</td>\n",
       "      <td>18591</td>\n",
       "      <td>17800</td>\n",
       "      <td>..</td>\n",
       "      <td>..</td>\n",
       "      <td>..</td>\n",
       "    </tr>\n",
       "    <tr>\n",
       "      <th>4</th>\n",
       "      <td>Carabao</td>\n",
       "      <td>Backyard</td>\n",
       "      <td>....Apayao</td>\n",
       "      <td>..</td>\n",
       "      <td>..</td>\n",
       "      <td>..</td>\n",
       "      <td>..</td>\n",
       "      <td>..</td>\n",
       "      <td>..</td>\n",
       "      <td>..</td>\n",
       "      <td>...</td>\n",
       "      <td>17309</td>\n",
       "      <td>..</td>\n",
       "      <td>17856</td>\n",
       "      <td>17240</td>\n",
       "      <td>18175</td>\n",
       "      <td>18100</td>\n",
       "      <td>18045</td>\n",
       "      <td>..</td>\n",
       "      <td>..</td>\n",
       "      <td>..</td>\n",
       "    </tr>\n",
       "  </tbody>\n",
       "</table>\n",
       "<p>5 rows × 123 columns</p>\n",
       "</div>"
      ],
      "text/plain": [
       "  Animal Type Farm Type                             Geolocation  \\\n",
       "0     Carabao  Backyard                             PHILIPPINES   \n",
       "1     Carabao  Backyard           National Capital Region (NCR)   \n",
       "2     Carabao  Backyard  Cordillera Administrative Region (CAR)   \n",
       "3     Carabao  Backyard                                ....Abra   \n",
       "4     Carabao  Backyard                              ....Apayao   \n",
       "\n",
       "  1994 01 January 1994 01 April 1994 01 July 1994 01 October 1995 01 January  \\\n",
       "0         2555492            ..      2664806              ..         2702325   \n",
       "1              ..            ..           ..              ..              ..   \n",
       "2           89882            ..        97573              ..           99245   \n",
       "3           24784            ..        25952              ..           26377   \n",
       "4              ..            ..           ..              ..              ..   \n",
       "\n",
       "  1995 01 April 1995 01 July  ... 2021 01 July 2021 01 October  \\\n",
       "0            ..      2832240  ...      2837583              ..   \n",
       "1            ..           ..  ...           ..              ..   \n",
       "2            ..       115566  ...        78747              ..   \n",
       "3            ..        35461  ...        16408              ..   \n",
       "4            ..           ..  ...        17309              ..   \n",
       "\n",
       "  2022 01 January 2022 01 April 2022 01 July 2022 01 October 2023 01 January  \\\n",
       "0         2769604       2766991      2762309         2781425         2766009   \n",
       "1              ..            ..           ..              ..              ..   \n",
       "2           77218         77605        78637           79207           78579   \n",
       "3           17475         18075        17996           18591           17800   \n",
       "4           17856         17240        18175           18100           18045   \n",
       "\n",
       "  2023 01 April 2023 01 July 2023 01 October  \n",
       "0            ..           ..              ..  \n",
       "1            ..           ..              ..  \n",
       "2            ..           ..              ..  \n",
       "3            ..           ..              ..  \n",
       "4            ..           ..              ..  \n",
       "\n",
       "[5 rows x 123 columns]"
      ]
     },
     "execution_count": 3,
     "metadata": {},
     "output_type": "execute_result"
    }
   ],
   "source": [
    "# First 5 rows of the dataset\n",
    "df_livestock.head()"
   ]
  },
  {
   "cell_type": "code",
   "execution_count": 4,
   "id": "77c9f986-1a0e-44a3-9e41-c63cdc20e1ca",
   "metadata": {},
   "outputs": [
    {
     "name": "stdout",
     "output_type": "stream",
     "text": [
      "<class 'pandas.core.frame.DataFrame'>\n",
      "RangeIndex: 808 entries, 0 to 807\n",
      "Columns: 123 entries, Animal Type to 2023 01 October\n",
      "dtypes: object(123)\n",
      "memory usage: 776.6+ KB\n"
     ]
    }
   ],
   "source": [
    "# Summary of the dataset\n",
    "df_livestock.info()"
   ]
  },
  {
   "cell_type": "code",
   "execution_count": 5,
   "id": "0e5ff2d5-1fb3-443b-b9fa-867518cdfea6",
   "metadata": {},
   "outputs": [
    {
     "data": {
      "text/html": [
       "<div>\n",
       "<style scoped>\n",
       "    .dataframe tbody tr th:only-of-type {\n",
       "        vertical-align: middle;\n",
       "    }\n",
       "\n",
       "    .dataframe tbody tr th {\n",
       "        vertical-align: top;\n",
       "    }\n",
       "\n",
       "    .dataframe thead th {\n",
       "        text-align: right;\n",
       "    }\n",
       "</style>\n",
       "<table border=\"1\" class=\"dataframe\">\n",
       "  <thead>\n",
       "    <tr style=\"text-align: right;\">\n",
       "      <th></th>\n",
       "      <th>Animal Type</th>\n",
       "      <th>Farm Type</th>\n",
       "      <th>Geolocation</th>\n",
       "      <th>1994 01 January</th>\n",
       "      <th>1994 01 April</th>\n",
       "      <th>1994 01 July</th>\n",
       "      <th>1994 01 October</th>\n",
       "      <th>1995 01 January</th>\n",
       "      <th>1995 01 April</th>\n",
       "      <th>1995 01 July</th>\n",
       "      <th>...</th>\n",
       "      <th>2021 01 July</th>\n",
       "      <th>2021 01 October</th>\n",
       "      <th>2022 01 January</th>\n",
       "      <th>2022 01 April</th>\n",
       "      <th>2022 01 July</th>\n",
       "      <th>2022 01 October</th>\n",
       "      <th>2023 01 January</th>\n",
       "      <th>2023 01 April</th>\n",
       "      <th>2023 01 July</th>\n",
       "      <th>2023 01 October</th>\n",
       "    </tr>\n",
       "  </thead>\n",
       "  <tbody>\n",
       "    <tr>\n",
       "      <th>count</th>\n",
       "      <td>808</td>\n",
       "      <td>808</td>\n",
       "      <td>808</td>\n",
       "      <td>808</td>\n",
       "      <td>808</td>\n",
       "      <td>808</td>\n",
       "      <td>808</td>\n",
       "      <td>808</td>\n",
       "      <td>808</td>\n",
       "      <td>808</td>\n",
       "      <td>...</td>\n",
       "      <td>808</td>\n",
       "      <td>808</td>\n",
       "      <td>808</td>\n",
       "      <td>808</td>\n",
       "      <td>808</td>\n",
       "      <td>808</td>\n",
       "      <td>808</td>\n",
       "      <td>808</td>\n",
       "      <td>808</td>\n",
       "      <td>808</td>\n",
       "    </tr>\n",
       "    <tr>\n",
       "      <th>unique</th>\n",
       "      <td>4</td>\n",
       "      <td>2</td>\n",
       "      <td>101</td>\n",
       "      <td>590</td>\n",
       "      <td>162</td>\n",
       "      <td>618</td>\n",
       "      <td>171</td>\n",
       "      <td>609</td>\n",
       "      <td>170</td>\n",
       "      <td>615</td>\n",
       "      <td>...</td>\n",
       "      <td>677</td>\n",
       "      <td>193</td>\n",
       "      <td>629</td>\n",
       "      <td>619</td>\n",
       "      <td>616</td>\n",
       "      <td>616</td>\n",
       "      <td>609</td>\n",
       "      <td>1</td>\n",
       "      <td>1</td>\n",
       "      <td>1</td>\n",
       "    </tr>\n",
       "    <tr>\n",
       "      <th>top</th>\n",
       "      <td>Carabao</td>\n",
       "      <td>Backyard</td>\n",
       "      <td>PHILIPPINES</td>\n",
       "      <td>..</td>\n",
       "      <td>..</td>\n",
       "      <td>..</td>\n",
       "      <td>..</td>\n",
       "      <td>..</td>\n",
       "      <td>..</td>\n",
       "      <td>..</td>\n",
       "      <td>...</td>\n",
       "      <td>..</td>\n",
       "      <td>..</td>\n",
       "      <td>..</td>\n",
       "      <td>..</td>\n",
       "      <td>..</td>\n",
       "      <td>..</td>\n",
       "      <td>..</td>\n",
       "      <td>..</td>\n",
       "      <td>..</td>\n",
       "      <td>..</td>\n",
       "    </tr>\n",
       "    <tr>\n",
       "      <th>freq</th>\n",
       "      <td>202</td>\n",
       "      <td>404</td>\n",
       "      <td>8</td>\n",
       "      <td>184</td>\n",
       "      <td>645</td>\n",
       "      <td>161</td>\n",
       "      <td>637</td>\n",
       "      <td>147</td>\n",
       "      <td>635</td>\n",
       "      <td>160</td>\n",
       "      <td>...</td>\n",
       "      <td>96</td>\n",
       "      <td>614</td>\n",
       "      <td>146</td>\n",
       "      <td>146</td>\n",
       "      <td>151</td>\n",
       "      <td>149</td>\n",
       "      <td>150</td>\n",
       "      <td>808</td>\n",
       "      <td>808</td>\n",
       "      <td>808</td>\n",
       "    </tr>\n",
       "  </tbody>\n",
       "</table>\n",
       "<p>4 rows × 123 columns</p>\n",
       "</div>"
      ],
      "text/plain": [
       "       Animal Type Farm Type  Geolocation 1994 01 January 1994 01 April  \\\n",
       "count          808       808          808             808           808   \n",
       "unique           4         2          101             590           162   \n",
       "top        Carabao  Backyard  PHILIPPINES              ..            ..   \n",
       "freq           202       404            8             184           645   \n",
       "\n",
       "       1994 01 July 1994 01 October 1995 01 January 1995 01 April  \\\n",
       "count           808             808             808           808   \n",
       "unique          618             171             609           170   \n",
       "top              ..              ..              ..            ..   \n",
       "freq            161             637             147           635   \n",
       "\n",
       "       1995 01 July  ... 2021 01 July 2021 01 October 2022 01 January  \\\n",
       "count           808  ...          808             808             808   \n",
       "unique          615  ...          677             193             629   \n",
       "top              ..  ...           ..              ..              ..   \n",
       "freq            160  ...           96             614             146   \n",
       "\n",
       "       2022 01 April 2022 01 July 2022 01 October 2023 01 January  \\\n",
       "count            808          808             808             808   \n",
       "unique           619          616             616             609   \n",
       "top               ..           ..              ..              ..   \n",
       "freq             146          151             149             150   \n",
       "\n",
       "       2023 01 April 2023 01 July 2023 01 October  \n",
       "count            808          808             808  \n",
       "unique             1            1               1  \n",
       "top               ..           ..              ..  \n",
       "freq             808          808             808  \n",
       "\n",
       "[4 rows x 123 columns]"
      ]
     },
     "execution_count": 5,
     "metadata": {},
     "output_type": "execute_result"
    }
   ],
   "source": [
    "# Statistical overview\n",
    "df_livestock.describe()"
   ]
  },
  {
   "cell_type": "code",
   "execution_count": 6,
   "id": "393b47d8-9a3d-423f-b746-3c1ca48605d6",
   "metadata": {},
   "outputs": [
    {
     "data": {
      "text/plain": [
       "Index(['Animal Type', 'Farm Type', 'Geolocation', '1994 01 January',\n",
       "       '1994 01 April', '1994 01 July', '1994 01 October', '1995 01 January',\n",
       "       '1995 01 April', '1995 01 July',\n",
       "       ...\n",
       "       '2021 01 July', '2021 01 October', '2022 01 January', '2022 01 April',\n",
       "       '2022 01 July', '2022 01 October', '2023 01 January', '2023 01 April',\n",
       "       '2023 01 July', '2023 01 October'],\n",
       "      dtype='object', length=123)"
      ]
     },
     "execution_count": 6,
     "metadata": {},
     "output_type": "execute_result"
    }
   ],
   "source": [
    "# List of column names\n",
    "df_livestock.columns"
   ]
  },
  {
   "cell_type": "markdown",
   "id": "386c84d6-ef2e-4582-90ff-bcfe8983241d",
   "metadata": {},
   "source": [
    "#### ➡️ Create a data dictionary"
   ]
  },
  {
   "cell_type": "code",
   "execution_count": 7,
   "id": "4ba994d3-8b41-43ad-bc86-298526e3cd47",
   "metadata": {},
   "outputs": [
    {
     "name": "stdout",
     "output_type": "stream",
     "text": [
      "Data Dictionary for Livestock: Inventory by Animal Type, Farm Type, Region, Province and Quarter, 1994-2022:\n",
      "\n",
      "| Column Name     | Data Type   | Description                                                         |\n",
      "|:----------------|:------------|:--------------------------------------------------------------------|\n",
      "| Animal Type     | object      | Type of animal present in the farm                                  |\n",
      "| Farm Type       | object      | Type of farm where the animals are                                  |\n",
      "| Geolocation     | object      | Regions and provinces in the Philippines                            |\n",
      "| 1994 01 January | object      | Number of animals present in the farm as of specific reference date |\n",
      "| 1994 01 April   | object      | Number of animals present in the farm as of specific reference date |\n",
      "| 1994 01 July    | object      | Number of animals present in the farm as of specific reference date |\n",
      "| 1994 01 October | object      | Number of animals present in the farm as of specific reference date |\n",
      "| 1995 01 January | object      | Number of animals present in the farm as of specific reference date |\n",
      "| 1995 01 April   | object      | Number of animals present in the farm as of specific reference date |\n",
      "| 1995 01 July    | object      | Number of animals present in the farm as of specific reference date |\n",
      "| 1995 01 October | object      | Number of animals present in the farm as of specific reference date |\n",
      "| 1996 01 January | object      | Number of animals present in the farm as of specific reference date |\n",
      "| 1996 01 April   | object      | Number of animals present in the farm as of specific reference date |\n",
      "| 1996 01 July    | object      | Number of animals present in the farm as of specific reference date |\n",
      "| 1996 01 October | object      | Number of animals present in the farm as of specific reference date |\n",
      "| 1997 01 January | object      | Number of animals present in the farm as of specific reference date |\n",
      "| 1997 01 April   | object      | Number of animals present in the farm as of specific reference date |\n",
      "| 1997 01 July    | object      | Number of animals present in the farm as of specific reference date |\n",
      "| 1997 01 October | object      | Number of animals present in the farm as of specific reference date |\n",
      "| 1998 01 January | object      | Number of animals present in the farm as of specific reference date |\n",
      "| 1998 01 April   | object      | Number of animals present in the farm as of specific reference date |\n",
      "| 1998 01 July    | object      | Number of animals present in the farm as of specific reference date |\n",
      "| 1998 01 October | object      | Number of animals present in the farm as of specific reference date |\n",
      "| 1999 01 January | object      | Number of animals present in the farm as of specific reference date |\n",
      "| 1999 01 April   | object      | Number of animals present in the farm as of specific reference date |\n",
      "| 1999 01 July    | object      | Number of animals present in the farm as of specific reference date |\n",
      "| 1999 01 October | object      | Number of animals present in the farm as of specific reference date |\n",
      "| 2000 01 January | object      | Number of animals present in the farm as of specific reference date |\n",
      "| 2000 01 April   | object      | Number of animals present in the farm as of specific reference date |\n",
      "| 2000 01 July    | object      | Number of animals present in the farm as of specific reference date |\n",
      "| 2000 01 October | object      | Number of animals present in the farm as of specific reference date |\n",
      "| 2001 01 January | object      | Number of animals present in the farm as of specific reference date |\n",
      "| 2001 01 April   | object      | Number of animals present in the farm as of specific reference date |\n",
      "| 2001 01 July    | object      | Number of animals present in the farm as of specific reference date |\n",
      "| 2001 01 October | object      | Number of animals present in the farm as of specific reference date |\n",
      "| 2002 01 January | object      | Number of animals present in the farm as of specific reference date |\n",
      "| 2002 01 April   | object      | Number of animals present in the farm as of specific reference date |\n",
      "| 2002 01 July    | object      | Number of animals present in the farm as of specific reference date |\n",
      "| 2002 01 October | object      | Number of animals present in the farm as of specific reference date |\n",
      "| 2003 01 January | object      | Number of animals present in the farm as of specific reference date |\n",
      "| 2003 01 April   | object      | Number of animals present in the farm as of specific reference date |\n",
      "| 2003 01 July    | object      | Number of animals present in the farm as of specific reference date |\n",
      "| 2003 01 October | object      | Number of animals present in the farm as of specific reference date |\n",
      "| 2004 01 January | object      | Number of animals present in the farm as of specific reference date |\n",
      "| 2004 01 April   | object      | Number of animals present in the farm as of specific reference date |\n",
      "| 2004 01 July    | object      | Number of animals present in the farm as of specific reference date |\n",
      "| 2004 01 October | object      | Number of animals present in the farm as of specific reference date |\n",
      "| 2005 01 January | object      | Number of animals present in the farm as of specific reference date |\n",
      "| 2005 01 April   | object      | Number of animals present in the farm as of specific reference date |\n",
      "| 2005 01 July    | object      | Number of animals present in the farm as of specific reference date |\n",
      "| 2005 01 October | object      | Number of animals present in the farm as of specific reference date |\n",
      "| 2006 01 January | object      | Number of animals present in the farm as of specific reference date |\n",
      "| 2006 01 April   | object      | Number of animals present in the farm as of specific reference date |\n",
      "| 2006 01 July    | object      | Number of animals present in the farm as of specific reference date |\n",
      "| 2006 01 October | object      | Number of animals present in the farm as of specific reference date |\n",
      "| 2007 01 January | object      | Number of animals present in the farm as of specific reference date |\n",
      "| 2007 01 April   | object      | Number of animals present in the farm as of specific reference date |\n",
      "| 2007 01 July    | object      | Number of animals present in the farm as of specific reference date |\n",
      "| 2007 01 October | object      | Number of animals present in the farm as of specific reference date |\n",
      "| 2008 01 January | object      | Number of animals present in the farm as of specific reference date |\n",
      "| 2008 01 April   | object      | Number of animals present in the farm as of specific reference date |\n",
      "| 2008 01 July    | object      | Number of animals present in the farm as of specific reference date |\n",
      "| 2008 01 October | object      | Number of animals present in the farm as of specific reference date |\n",
      "| 2009 01 January | object      | Number of animals present in the farm as of specific reference date |\n",
      "| 2009 01 April   | object      | Number of animals present in the farm as of specific reference date |\n",
      "| 2009 01 July    | object      | Number of animals present in the farm as of specific reference date |\n",
      "| 2009 01 October | object      | Number of animals present in the farm as of specific reference date |\n",
      "| 2010 01 January | object      | Number of animals present in the farm as of specific reference date |\n",
      "| 2010 01 April   | object      | Number of animals present in the farm as of specific reference date |\n",
      "| 2010 01 July    | object      | Number of animals present in the farm as of specific reference date |\n",
      "| 2010 01 October | object      | Number of animals present in the farm as of specific reference date |\n",
      "| 2011 01 January | object      | Number of animals present in the farm as of specific reference date |\n",
      "| 2011 01 April   | object      | Number of animals present in the farm as of specific reference date |\n",
      "| 2011 01 July    | object      | Number of animals present in the farm as of specific reference date |\n",
      "| 2011 01 October | object      | Number of animals present in the farm as of specific reference date |\n",
      "| 2012 01 January | object      | Number of animals present in the farm as of specific reference date |\n",
      "| 2012 01 April   | object      | Number of animals present in the farm as of specific reference date |\n",
      "| 2012 01 July    | object      | Number of animals present in the farm as of specific reference date |\n",
      "| 2012 01 October | object      | Number of animals present in the farm as of specific reference date |\n",
      "| 2013 01 January | object      | Number of animals present in the farm as of specific reference date |\n",
      "| 2013 01 April   | object      | Number of animals present in the farm as of specific reference date |\n",
      "| 2013 01 July    | object      | Number of animals present in the farm as of specific reference date |\n",
      "| 2013 01 October | object      | Number of animals present in the farm as of specific reference date |\n",
      "| 2014 01 January | object      | Number of animals present in the farm as of specific reference date |\n",
      "| 2014 01 April   | object      | Number of animals present in the farm as of specific reference date |\n",
      "| 2014 01 July    | object      | Number of animals present in the farm as of specific reference date |\n",
      "| 2014 01 October | object      | Number of animals present in the farm as of specific reference date |\n",
      "| 2015 01 January | object      | Number of animals present in the farm as of specific reference date |\n",
      "| 2015 01 April   | object      | Number of animals present in the farm as of specific reference date |\n",
      "| 2015 01 July    | object      | Number of animals present in the farm as of specific reference date |\n",
      "| 2015 01 October | object      | Number of animals present in the farm as of specific reference date |\n",
      "| 2016 01 January | object      | Number of animals present in the farm as of specific reference date |\n",
      "| 2016 01 April   | object      | Number of animals present in the farm as of specific reference date |\n",
      "| 2016 01 July    | object      | Number of animals present in the farm as of specific reference date |\n",
      "| 2016 01 October | object      | Number of animals present in the farm as of specific reference date |\n",
      "| 2017 01 January | object      | Number of animals present in the farm as of specific reference date |\n",
      "| 2017 01 April   | object      | Number of animals present in the farm as of specific reference date |\n",
      "| 2017 01 July    | object      | Number of animals present in the farm as of specific reference date |\n",
      "| 2017 01 October | object      | Number of animals present in the farm as of specific reference date |\n",
      "| 2018 01 January | object      | Number of animals present in the farm as of specific reference date |\n",
      "| 2018 01 April   | object      | Number of animals present in the farm as of specific reference date |\n",
      "| 2018 01 July    | object      | Number of animals present in the farm as of specific reference date |\n",
      "| 2018 01 October | object      | Number of animals present in the farm as of specific reference date |\n",
      "| 2019 01 January | object      | Number of animals present in the farm as of specific reference date |\n",
      "| 2019 01 April   | object      | Number of animals present in the farm as of specific reference date |\n",
      "| 2019 01 July    | object      | Number of animals present in the farm as of specific reference date |\n",
      "| 2019 01 October | object      | Number of animals present in the farm as of specific reference date |\n",
      "| 2020 01 January | object      | Number of animals present in the farm as of specific reference date |\n",
      "| 2020 01 April   | object      | Number of animals present in the farm as of specific reference date |\n",
      "| 2020 01 July    | object      | Number of animals present in the farm as of specific reference date |\n",
      "| 2020 01 October | object      | Number of animals present in the farm as of specific reference date |\n",
      "| 2021 01 January | object      | Number of animals present in the farm as of specific reference date |\n",
      "| 2021 01 April   | object      | Number of animals present in the farm as of specific reference date |\n",
      "| 2021 01 July    | object      | Number of animals present in the farm as of specific reference date |\n",
      "| 2021 01 October | object      | Number of animals present in the farm as of specific reference date |\n",
      "| 2022 01 January | object      | Number of animals present in the farm as of specific reference date |\n",
      "| 2022 01 April   | object      | Number of animals present in the farm as of specific reference date |\n",
      "| 2022 01 July    | object      | Number of animals present in the farm as of specific reference date |\n",
      "| 2022 01 October | object      | Number of animals present in the farm as of specific reference date |\n",
      "| 2023 01 January | object      | Number of animals present in the farm as of specific reference date |\n",
      "| 2023 01 April   | object      | Number of animals present in the farm as of specific reference date |\n",
      "| 2023 01 July    | object      | Number of animals present in the farm as of specific reference date |\n",
      "| 2023 01 October | object      | Number of animals present in the farm as of specific reference date |\n"
     ]
    }
   ],
   "source": [
    "def create_data_dict(fao):\n",
    "    # Manually define the descriptions for each column\n",
    "    descriptions = {\n",
    "        'Animal Type': 'Type of animal present in the farm',\n",
    "        'Farm Type': 'Type of farm where the animals are',\n",
    "        'Geolocation': 'Regions and provinces in the Philippines'\n",
    "    }\n",
    "\n",
    "    # Create the data dictionary DataFrame\n",
    "    data_dict = pd.DataFrame({\n",
    "        'Column Name': df_livestock.columns,\n",
    "        'Data Type': df_livestock.dtypes,\n",
    "        'Description': [descriptions.get(col, 'Number of animals present in the farm as of specific reference date') for col in df_livestock.columns]\n",
    "    })\n",
    "    \n",
    "    return data_dict\n",
    "\n",
    "data_dict_fao = create_data_dict(df_livestock)\n",
    "\n",
    "print(\"Data Dictionary for Livestock: Inventory by Animal Type, Farm Type, Region, Province and Quarter, 1994-2022:\\n\")\n",
    "print(data_dict_fao.to_markdown(index=False))"
   ]
  },
  {
   "cell_type": "code",
   "execution_count": 8,
   "id": "6dae42a8-c849-4b13-b906-70964886935c",
   "metadata": {},
   "outputs": [
    {
     "name": "stdout",
     "output_type": "stream",
     "text": [
      "Footnotes of the dataset:\n",
      "\n",
      "    .. Data not applicable\n",
      "    01 Jan 2023 - Preliminary\n",
      "    01 Jan 2022 - Revised for Cattle\n",
      "    01 Apr 2022 - Revised for Carabao\n",
      "    * - Zamboanga City included in Zamboanga del Sur.\n",
      "    ** - Davao City included in Davao del Sur.\n",
      "    Note - Ending Inventory of 2022 are based on the new design of BLPS and new survey frame for CLPS.\n",
      "    \n"
     ]
    }
   ],
   "source": [
    "print(\"Footnotes of the dataset:\")\n",
    "print(\"\"\"\n",
    "    .. Data not applicable\n",
    "    01 Jan 2023 - Preliminary\n",
    "    01 Jan 2022 - Revised for Cattle\n",
    "    01 Apr 2022 - Revised for Carabao\n",
    "    * - Zamboanga City included in Zamboanga del Sur.\n",
    "    ** - Davao City included in Davao del Sur.\n",
    "    Note - Ending Inventory of 2022 are based on the new design of BLPS and new survey frame for CLPS.\n",
    "    \"\"\"\n",
    "     )"
   ]
  },
  {
   "cell_type": "markdown",
   "id": "598ecc71-bdbd-4f20-869e-2f56a1f092f0",
   "metadata": {},
   "source": [
    "#### ➡️ Handle missing values"
   ]
  },
  {
   "cell_type": "code",
   "execution_count": 9,
   "id": "cbd0ab62-b086-4b86-bfd2-237f789aa9a6",
   "metadata": {},
   "outputs": [],
   "source": [
    "# Since '..' means data not applicable, change all cells with '..' to null\n",
    "df_livestock.replace('..', np.nan, inplace=True)"
   ]
  },
  {
   "cell_type": "code",
   "execution_count": 10,
   "id": "2311024b-e9d8-4bb4-8b9b-0f8f5020c4df",
   "metadata": {},
   "outputs": [
    {
     "data": {
      "text/plain": [
       "Animal Type          0\n",
       "Farm Type            0\n",
       "Geolocation          0\n",
       "1994 01 January    184\n",
       "1994 01 April      645\n",
       "                  ... \n",
       "2022 01 October    149\n",
       "2023 01 January    150\n",
       "2023 01 April      808\n",
       "2023 01 July       808\n",
       "2023 01 October    808\n",
       "Length: 123, dtype: int64"
      ]
     },
     "execution_count": 10,
     "metadata": {},
     "output_type": "execute_result"
    }
   ],
   "source": [
    "# Check for null values\n",
    "df_livestock.isnull().sum()"
   ]
  },
  {
   "cell_type": "code",
   "execution_count": 11,
   "id": "1acf00fb-8c01-4a46-99c1-e0337c6055dd",
   "metadata": {},
   "outputs": [],
   "source": [
    "# Drop the columns that contains only null values\n",
    "df_livestock.dropna(axis=1, how='all', inplace=True)"
   ]
  },
  {
   "cell_type": "markdown",
   "id": "101d9847-f655-4f99-9c30-e7b3e67e31f4",
   "metadata": {},
   "source": [
    "#### ➡️ Handle duplicate rows"
   ]
  },
  {
   "cell_type": "code",
   "execution_count": 12,
   "id": "533d1afb-a15f-4cf9-b640-b57a27f0c301",
   "metadata": {},
   "outputs": [
    {
     "data": {
      "text/plain": [
       "0"
      ]
     },
     "execution_count": 12,
     "metadata": {},
     "output_type": "execute_result"
    }
   ],
   "source": [
    "# Check for duplicate rows\n",
    "df_livestock.duplicated().sum()"
   ]
  },
  {
   "cell_type": "markdown",
   "id": "bc72f2a0-7295-4de0-b44e-05479dbef6f4",
   "metadata": {},
   "source": [
    "#### ➡️ Handle invalid data"
   ]
  },
  {
   "cell_type": "code",
   "execution_count": 13,
   "id": "b34d8f7c-14e2-4f5f-bc1b-62f01d004fca",
   "metadata": {},
   "outputs": [],
   "source": [
    "# Replace all the data with the values '*' and '**' with 0 so that its data type can be converted and later combined with their respective provinces\n",
    "df_livestock.replace('*', 0, inplace=True)\n",
    "df_livestock.replace('**', 0, inplace=True)"
   ]
  },
  {
   "cell_type": "markdown",
   "id": "ea11aacc-a588-4733-9d1e-b6dad69d0ece",
   "metadata": {},
   "source": [
    "#### ➡️ Convert Data Types"
   ]
  },
  {
   "cell_type": "code",
   "execution_count": 14,
   "id": "5e65fa2f-9ba4-44ac-94ec-0bc4292d69a3",
   "metadata": {},
   "outputs": [
    {
     "data": {
      "text/plain": [
       "Animal Type         object\n",
       "Farm Type           object\n",
       "Geolocation         object\n",
       "1994 01 January    float64\n",
       "1994 01 April      float64\n",
       "                    ...   \n",
       "2022 01 January    float64\n",
       "2022 01 April      float64\n",
       "2022 01 July       float64\n",
       "2022 01 October    float64\n",
       "2023 01 January    float64\n",
       "Length: 120, dtype: object"
      ]
     },
     "execution_count": 14,
     "metadata": {},
     "output_type": "execute_result"
    }
   ],
   "source": [
    "# Convert all the date columns to float\n",
    "for col in df_livestock.columns[3:122]:\n",
    "    df_livestock[col] = pd.to_numeric(df_livestock[col], errors='coerce')\n",
    "\n",
    "df_livestock.dtypes"
   ]
  },
  {
   "cell_type": "markdown",
   "id": "029bf050-aa1a-4941-8252-cae43caf393a",
   "metadata": {},
   "source": [
    "### 1.2 Feature Engineering"
   ]
  },
  {
   "cell_type": "markdown",
   "id": "e57dca36-00cd-453c-8093-c0aaec617d57",
   "metadata": {},
   "source": [
    "#### ➡️ Add the values of City of Zamboanga to Zamboanga del Sur"
   ]
  },
  {
   "cell_type": "code",
   "execution_count": 15,
   "id": "4d191753-90dc-4f20-aa4e-036a43728814",
   "metadata": {},
   "outputs": [],
   "source": [
    "# Iterate over combinations of Animal Type and Farm Type\n",
    "for _, group in df_livestock.groupby(['Animal Type', 'Farm Type']):\n",
    "    \n",
    "    # Check if both locations exist in the group\n",
    "    if '....Zamboanga del Sur' in group['Geolocation'].values and '......City of Zamboanga' in group['Geolocation'].values:\n",
    "        # Extract the row for City of Zamboanga\n",
    "        row_city_of_zamboanga = group[group['Geolocation'] == '......City of Zamboanga']\n",
    "\n",
    "        # Add the values from City of Zamboanga to Zamboanga del Sur\n",
    "        df_livestock.loc[df_livestock['Geolocation'] == '....Zamboanga del Sur', df_livestock.columns[3:]] += row_city_of_zamboanga.iloc[0, 3:]\n",
    "\n",
    "        # Drop the City of Zamboanga row from the DataFrame\n",
    "        df_livestock = df_livestock[df_livestock['Geolocation'] != '......City of Zamboanga']"
   ]
  },
  {
   "cell_type": "markdown",
   "id": "de4b6465-ac17-46f6-98ee-4e1052d07fab",
   "metadata": {},
   "source": [
    "#### ➡️ Add the values of City of Davao to Davao del Sur"
   ]
  },
  {
   "cell_type": "code",
   "execution_count": 16,
   "id": "5a9bafc0-6812-481d-bd50-8f223aefce8a",
   "metadata": {},
   "outputs": [
    {
     "name": "stderr",
     "output_type": "stream",
     "text": [
      "C:\\Users\\RHODA\\AppData\\Local\\Temp\\ipykernel_8132\\3765066108.py:9: SettingWithCopyWarning: \n",
      "A value is trying to be set on a copy of a slice from a DataFrame\n",
      "\n",
      "See the caveats in the documentation: https://pandas.pydata.org/pandas-docs/stable/user_guide/indexing.html#returning-a-view-versus-a-copy\n",
      "  df_livestock.loc[df_livestock['Geolocation'] == '....Davao del Sur', df_livestock.columns[3:]] += row_city_of_davao.iloc[0, 3:]\n"
     ]
    }
   ],
   "source": [
    "# Iterate over unique combinations of Animal Type and Farm Type\n",
    "for _, group in df_livestock.groupby(['Animal Type', 'Farm Type']):\n",
    "    # Check if both locations exist in the group\n",
    "    if '....Davao del Sur' in group['Geolocation'].values and '......City of Davao' in group['Geolocation'].values:\n",
    "        # Extract the row for City of Davao\n",
    "        row_city_of_davao = group[group['Geolocation'] == '......City of Davao']\n",
    "\n",
    "        # Add the values from City of Davao to Davao del Sur while keeping NaN values\n",
    "        df_livestock.loc[df_livestock['Geolocation'] == '....Davao del Sur', df_livestock.columns[3:]] += row_city_of_davao.iloc[0, 3:]\n",
    "\n",
    "        # Drop the City of Davao row from the DataFrame\n",
    "        df_livestock = df_livestock[df_livestock['Geolocation'] != '......City of Davao']"
   ]
  },
  {
   "cell_type": "markdown",
   "id": "1ef56e03-bdba-4f8b-8080-d891e03476a6",
   "metadata": {},
   "source": [
    "#### ➡️ Create 'Region' and 'Province' attributes"
   ]
  },
  {
   "cell_type": "code",
   "execution_count": 17,
   "id": "eec30b9f-5b31-44c9-b873-d7bfb4791a6a",
   "metadata": {},
   "outputs": [],
   "source": [
    "# Dividing Geolocation into Region and Province attributes\n",
    "# Create new columns for Region and Province\n",
    "df_livestock['Region'] = df_livestock['Geolocation'].where(~df_livestock['Geolocation'].str.startswith('....')).ffill()\n",
    "df_livestock['Province'] = df_livestock['Geolocation'].where(df_livestock['Geolocation'].str.startswith('....'))\n",
    "\n",
    "# Drop the original Geolocation column\n",
    "df_livestock.drop(columns=['Geolocation'], inplace=True)\n",
    "\n",
    "# Optionally, clean up the Province column to remove the '....' prefix\n",
    "df_livestock['Province'] = df_livestock['Province'].str.replace('....', '', regex=False)\n",
    "\n",
    "# Reorder the attributes\n",
    "df_livestock = df_livestock[list(df_livestock.columns[:2]) + ['Region', 'Province'] + list(df_livestock.columns[2:-2])]"
   ]
  }
 ],
 "metadata": {
  "kernelspec": {
   "display_name": "Python 3 (ipykernel)",
   "language": "python",
   "name": "python3"
  },
  "language_info": {
   "codemirror_mode": {
    "name": "ipython",
    "version": 3
   },
   "file_extension": ".py",
   "mimetype": "text/x-python",
   "name": "python",
   "nbconvert_exporter": "python",
   "pygments_lexer": "ipython3",
   "version": "3.12.0"
  }
 },
 "nbformat": 4,
 "nbformat_minor": 5
}
