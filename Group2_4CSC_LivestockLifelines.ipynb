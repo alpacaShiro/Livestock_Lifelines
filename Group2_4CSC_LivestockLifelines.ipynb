{
 "cells": [
  {
   "cell_type": "markdown",
   "id": "016ae71b-b8ab-4046-bf26-cfc90a295966",
   "metadata": {},
   "source": [
    "# Livestock Lifelines: Analyzing Trends to Combat Food Insecurity in the Philippines"
   ]
  },
  {
   "cell_type": "markdown",
   "id": "2acfa31f-1567-45a4-9556-b86407c537fc",
   "metadata": {},
   "source": [
    "**Members:**\n",
    "- Balangeg, Kyle\n",
    "- Cruz, Dwight Kenneth\n",
    "- De Lara, Aaron Charles\n",
    "- Gaano, Rex Allaire\n",
    "- Ng, Alyza Paige"
   ]
  },
  {
   "cell_type": "code",
   "execution_count": 7,
   "id": "f120da8f-1c2d-4131-abb1-36493ee2ebb3",
   "metadata": {},
   "outputs": [],
   "source": [
    "import warnings # To manage warnings.\n",
    "import tabulate # To pretty-print tabular data.\n",
    "\n",
    "import numpy as np # Used for working with arrays, matrices, and a range of mathematical operations.\n",
    "import pandas as pd # Provides data structures such as DataFrame and Series.\n",
    "import matplotlib.pyplot as plt # Creating various types of visualizations, like line plots, scatter plots, bar charts, etc.\n",
    "\n",
    "warnings.simplefilter(action='ignore') # To ignore warnings that may arise during execution. \n",
    "# Helpful in making the code look not that complicated."
   ]
  },
  {
   "cell_type": "markdown",
   "id": "ad527282-6270-4be2-b92e-e2194639292e",
   "metadata": {},
   "source": [
    "### Initial Update:\n",
    "- Added Data Cleaning\n",
    "- Added Feature Engineering\n",
    "\n",
    "### To do list:\n",
    "- Check the data cleaning part\n",
    "- Check and add more feature engineering\n",
    "- Data Exploration\n",
    "- Visualizations"
   ]
  },
  {
   "cell_type": "markdown",
   "id": "501416af-0da9-4567-b62d-41ffec915866",
   "metadata": {},
   "source": [
    "## Understanding the Dataset"
   ]
  },
  {
   "cell_type": "markdown",
   "id": "1c7145a2-f638-4827-96e0-eb1952a9fd81",
   "metadata": {},
   "source": [
    "The `2E4FINL0` dataset is utilized for this analysis."
   ]
  },
  {
   "cell_type": "markdown",
   "id": "923ab52e-0bf3-4362-8f3a-8bcdb297b7c4",
   "metadata": {},
   "source": [
    "### Dataset Description"
   ]
  },
  {
   "cell_type": "markdown",
   "id": "56e49290-617c-40f6-929c-ef78b04e6265",
   "metadata": {},
   "source": [
    "The dataset records the livestock inventory in the Philippines, disaggregated by **animal type, farm type, region, province,** and **quarter** over the period from **1994 to 2022.**\\\n",
    "\\\n",
    "The inventory measures the actual number of animals present on farms, regardless of ownership, as of a specific reference date."
   ]
  },
  {
   "cell_type": "markdown",
   "id": "d2a7765c-2b6f-4d34-a495-42615373df24",
   "metadata": {},
   "source": [
    "### Variables and Their Definitions"
   ]
  },
  {
   "cell_type": "markdown",
   "id": "59a86c4f-317f-4139-8965-28bcd6e16d94",
   "metadata": {},
   "source": [
    "- **Animal Type:** Different kinds of poultry animals (e.g., chicken, swine, etc.).\n",
    "- **Farm Type:** Whether the farm is a backyard or commercial farm.\n",
    "- **Region and Province:** Geographical information on where the data was collected.\n",
    "- **Quarter:** The reference quarter of the data (January, April, July, October).\n",
    "- **Inventory (count):** The number of animals present (in heads)."
   ]
  },
  {
   "cell_type": "markdown",
   "id": "fe7e3bc2-f990-4fdb-bd74-485858f2d18b",
   "metadata": {},
   "source": [
    "### Purpose of the Data"
   ]
  },
  {
   "cell_type": "markdown",
   "id": "dd417760-1c50-4989-a2eb-d16cec34f183",
   "metadata": {},
   "source": [
    "The `2E4FINL0` dataset monitors the inventory levels of livestock across different regions and provinces in the Philippines. The dataset was obtained from the Philippine Statistics Authority (PSA) OpenSTAT website. Philippine Statistics Authority (PSA) is the government agency responsible for collecting and publishing this data, which is useful for planning in agriculture, economics, and food production. Hence, it provides insight into the distribution of livestock by farm type, geographical location, and time."
   ]
  },
  {
   "cell_type": "markdown",
   "id": "5775cac7-ad81-46be-bd7c-e6594879870a",
   "metadata": {},
   "source": [
    "### Problem Statement"
   ]
  },
  {
   "cell_type": "markdown",
   "id": "6abbff91-0d9a-46bf-b03d-6c9dd57c93e5",
   "metadata": {},
   "source": [
    "Food security remains an issue in the Philippines, with 44.7% of Filipinos experiencing food insecurity in 2023 (Author, Date). Livestock production, a critical component of the food supply chain, has a direct impact on the availability and affordability of meat and eggs, which are staple food sourced for Filipinos."
   ]
  },
  {
   "cell_type": "markdown",
   "id": "6471a719-7515-44db-8017-d3a50c8251e6",
   "metadata": {},
   "source": [
    "The analysis of livestock trends across different regions and farm types can provide insights into regional disparities in livestock production. Identifying regions that underperform or show declining trends in livestock numbers will help highlight areas where government intervention or infrastructure improvements are needed to mitigate the food insecurity for Filipinos."
   ]
  },
  {
   "cell_type": "markdown",
   "id": "01751fb3-c7ab-42ed-b690-5f477add4dac",
   "metadata": {},
   "source": [
    "### Objectives of the Analysis"
   ]
  },
  {
   "cell_type": "markdown",
   "id": "e70b3038-790b-4c5a-9395-13e220ec8e04",
   "metadata": {},
   "source": [
    "Therefore, this analysis aims to:\n",
    "1. Identify trends in livestock production across regions and provinces in the Philippines from 1994 to 2022.\n",
    "2. Determine whether certain regions consistently have lower livestock inventory levels compared to others.\n",
    "3. Assess the impact of farm types (backyard vs. commercial) on livestock production trends.\n",
    "4. Provide recommendations for addressing regional disparities to improve Filipino food security."
   ]
  },
  {
   "cell_type": "markdown",
   "id": "b850a5b0-24e6-4e38-ac52-e0c255c52627",
   "metadata": {},
   "source": [
    "## Part 1: Data Wrangling"
   ]
  },
  {
   "cell_type": "markdown",
   "id": "663c1056-b04b-4e7b-a460-52ad5cf351bc",
   "metadata": {},
   "source": [
    "### 1.1 Data Exploration"
   ]
  },
  {
   "cell_type": "markdown",
   "id": "22961c09-3fe4-4708-81e0-404d3fb5fe01",
   "metadata": {},
   "source": [
    "#### ➡️ Load the dataset into Pandas dataframe"
   ]
  },
  {
   "cell_type": "code",
   "execution_count": 8,
   "id": "406b75ce-baa5-4b61-9f88-5799d201b33c",
   "metadata": {},
   "outputs": [],
   "source": [
    "df_livestock = pd.read_csv('2E4FINL0.csv', header=1)\n",
    "\n",
    "# \"header\" specifies which row of the CSV file should be used as the column name.\n",
    "# \"header=1\" means that the second row of the CSV file will be used as column headers."
   ]
  },
  {
   "cell_type": "markdown",
   "id": "1ca3ec58-41ad-46e3-86a3-b2cfdd29fd87",
   "metadata": {},
   "source": [
    "#### ➡️ Inspect the data"
   ]
  },
  {
   "cell_type": "code",
   "execution_count": 9,
   "id": "79a4a236-421a-4dcf-9b84-859777abfc49",
   "metadata": {},
   "outputs": [
    {
     "data": {
      "text/html": [
       "<div>\n",
       "<style scoped>\n",
       "    .dataframe tbody tr th:only-of-type {\n",
       "        vertical-align: middle;\n",
       "    }\n",
       "\n",
       "    .dataframe tbody tr th {\n",
       "        vertical-align: top;\n",
       "    }\n",
       "\n",
       "    .dataframe thead th {\n",
       "        text-align: right;\n",
       "    }\n",
       "</style>\n",
       "<table border=\"1\" class=\"dataframe\">\n",
       "  <thead>\n",
       "    <tr style=\"text-align: right;\">\n",
       "      <th></th>\n",
       "      <th>Animal Type</th>\n",
       "      <th>Farm Type</th>\n",
       "      <th>Geolocation</th>\n",
       "      <th>1994 01 January</th>\n",
       "      <th>1994 01 April</th>\n",
       "      <th>1994 01 July</th>\n",
       "      <th>1994 01 October</th>\n",
       "      <th>1995 01 January</th>\n",
       "      <th>1995 01 April</th>\n",
       "      <th>1995 01 July</th>\n",
       "      <th>...</th>\n",
       "      <th>2021 01 July</th>\n",
       "      <th>2021 01 October</th>\n",
       "      <th>2022 01 January</th>\n",
       "      <th>2022 01 April</th>\n",
       "      <th>2022 01 July</th>\n",
       "      <th>2022 01 October</th>\n",
       "      <th>2023 01 January</th>\n",
       "      <th>2023 01 April</th>\n",
       "      <th>2023 01 July</th>\n",
       "      <th>2023 01 October</th>\n",
       "    </tr>\n",
       "  </thead>\n",
       "  <tbody>\n",
       "    <tr>\n",
       "      <th>0</th>\n",
       "      <td>Carabao</td>\n",
       "      <td>Backyard</td>\n",
       "      <td>PHILIPPINES</td>\n",
       "      <td>2555492</td>\n",
       "      <td>..</td>\n",
       "      <td>2664806</td>\n",
       "      <td>..</td>\n",
       "      <td>2702325</td>\n",
       "      <td>..</td>\n",
       "      <td>2832240</td>\n",
       "      <td>...</td>\n",
       "      <td>2837583</td>\n",
       "      <td>..</td>\n",
       "      <td>2769604</td>\n",
       "      <td>2766991</td>\n",
       "      <td>2762309</td>\n",
       "      <td>2781425</td>\n",
       "      <td>2766009</td>\n",
       "      <td>..</td>\n",
       "      <td>..</td>\n",
       "      <td>..</td>\n",
       "    </tr>\n",
       "    <tr>\n",
       "      <th>1</th>\n",
       "      <td>Carabao</td>\n",
       "      <td>Backyard</td>\n",
       "      <td>National Capital Region (NCR)</td>\n",
       "      <td>..</td>\n",
       "      <td>..</td>\n",
       "      <td>..</td>\n",
       "      <td>..</td>\n",
       "      <td>..</td>\n",
       "      <td>..</td>\n",
       "      <td>..</td>\n",
       "      <td>...</td>\n",
       "      <td>..</td>\n",
       "      <td>..</td>\n",
       "      <td>..</td>\n",
       "      <td>..</td>\n",
       "      <td>..</td>\n",
       "      <td>..</td>\n",
       "      <td>..</td>\n",
       "      <td>..</td>\n",
       "      <td>..</td>\n",
       "      <td>..</td>\n",
       "    </tr>\n",
       "    <tr>\n",
       "      <th>2</th>\n",
       "      <td>Carabao</td>\n",
       "      <td>Backyard</td>\n",
       "      <td>Cordillera Administrative Region (CAR)</td>\n",
       "      <td>89882</td>\n",
       "      <td>..</td>\n",
       "      <td>97573</td>\n",
       "      <td>..</td>\n",
       "      <td>99245</td>\n",
       "      <td>..</td>\n",
       "      <td>115566</td>\n",
       "      <td>...</td>\n",
       "      <td>78747</td>\n",
       "      <td>..</td>\n",
       "      <td>77218</td>\n",
       "      <td>77605</td>\n",
       "      <td>78637</td>\n",
       "      <td>79207</td>\n",
       "      <td>78579</td>\n",
       "      <td>..</td>\n",
       "      <td>..</td>\n",
       "      <td>..</td>\n",
       "    </tr>\n",
       "    <tr>\n",
       "      <th>3</th>\n",
       "      <td>Carabao</td>\n",
       "      <td>Backyard</td>\n",
       "      <td>....Abra</td>\n",
       "      <td>24784</td>\n",
       "      <td>..</td>\n",
       "      <td>25952</td>\n",
       "      <td>..</td>\n",
       "      <td>26377</td>\n",
       "      <td>..</td>\n",
       "      <td>35461</td>\n",
       "      <td>...</td>\n",
       "      <td>16408</td>\n",
       "      <td>..</td>\n",
       "      <td>17475</td>\n",
       "      <td>18075</td>\n",
       "      <td>17996</td>\n",
       "      <td>18591</td>\n",
       "      <td>17800</td>\n",
       "      <td>..</td>\n",
       "      <td>..</td>\n",
       "      <td>..</td>\n",
       "    </tr>\n",
       "    <tr>\n",
       "      <th>4</th>\n",
       "      <td>Carabao</td>\n",
       "      <td>Backyard</td>\n",
       "      <td>....Apayao</td>\n",
       "      <td>..</td>\n",
       "      <td>..</td>\n",
       "      <td>..</td>\n",
       "      <td>..</td>\n",
       "      <td>..</td>\n",
       "      <td>..</td>\n",
       "      <td>..</td>\n",
       "      <td>...</td>\n",
       "      <td>17309</td>\n",
       "      <td>..</td>\n",
       "      <td>17856</td>\n",
       "      <td>17240</td>\n",
       "      <td>18175</td>\n",
       "      <td>18100</td>\n",
       "      <td>18045</td>\n",
       "      <td>..</td>\n",
       "      <td>..</td>\n",
       "      <td>..</td>\n",
       "    </tr>\n",
       "    <tr>\n",
       "      <th>5</th>\n",
       "      <td>Carabao</td>\n",
       "      <td>Backyard</td>\n",
       "      <td>....Benguet</td>\n",
       "      <td>7503</td>\n",
       "      <td>..</td>\n",
       "      <td>12105</td>\n",
       "      <td>..</td>\n",
       "      <td>15333</td>\n",
       "      <td>..</td>\n",
       "      <td>22250</td>\n",
       "      <td>...</td>\n",
       "      <td>11606</td>\n",
       "      <td>..</td>\n",
       "      <td>11427</td>\n",
       "      <td>11433</td>\n",
       "      <td>11445</td>\n",
       "      <td>11713</td>\n",
       "      <td>11546</td>\n",
       "      <td>..</td>\n",
       "      <td>..</td>\n",
       "      <td>..</td>\n",
       "    </tr>\n",
       "    <tr>\n",
       "      <th>6</th>\n",
       "      <td>Carabao</td>\n",
       "      <td>Backyard</td>\n",
       "      <td>....Ifugao</td>\n",
       "      <td>16626</td>\n",
       "      <td>..</td>\n",
       "      <td>17122</td>\n",
       "      <td>..</td>\n",
       "      <td>16802</td>\n",
       "      <td>..</td>\n",
       "      <td>17478</td>\n",
       "      <td>...</td>\n",
       "      <td>7649</td>\n",
       "      <td>..</td>\n",
       "      <td>5470</td>\n",
       "      <td>5270</td>\n",
       "      <td>5276</td>\n",
       "      <td>5280</td>\n",
       "      <td>5861</td>\n",
       "      <td>..</td>\n",
       "      <td>..</td>\n",
       "      <td>..</td>\n",
       "    </tr>\n",
       "    <tr>\n",
       "      <th>7</th>\n",
       "      <td>Carabao</td>\n",
       "      <td>Backyard</td>\n",
       "      <td>....Kalinga</td>\n",
       "      <td>27063</td>\n",
       "      <td>..</td>\n",
       "      <td>28844</td>\n",
       "      <td>..</td>\n",
       "      <td>27359</td>\n",
       "      <td>..</td>\n",
       "      <td>28431</td>\n",
       "      <td>...</td>\n",
       "      <td>20518</td>\n",
       "      <td>..</td>\n",
       "      <td>19585</td>\n",
       "      <td>20090</td>\n",
       "      <td>20170</td>\n",
       "      <td>19883</td>\n",
       "      <td>19657</td>\n",
       "      <td>..</td>\n",
       "      <td>..</td>\n",
       "      <td>..</td>\n",
       "    </tr>\n",
       "    <tr>\n",
       "      <th>8</th>\n",
       "      <td>Carabao</td>\n",
       "      <td>Backyard</td>\n",
       "      <td>....Mountain Province</td>\n",
       "      <td>13906</td>\n",
       "      <td>..</td>\n",
       "      <td>13550</td>\n",
       "      <td>..</td>\n",
       "      <td>13374</td>\n",
       "      <td>..</td>\n",
       "      <td>11946</td>\n",
       "      <td>...</td>\n",
       "      <td>5257</td>\n",
       "      <td>..</td>\n",
       "      <td>5405</td>\n",
       "      <td>5497</td>\n",
       "      <td>5575</td>\n",
       "      <td>5640</td>\n",
       "      <td>5670</td>\n",
       "      <td>..</td>\n",
       "      <td>..</td>\n",
       "      <td>..</td>\n",
       "    </tr>\n",
       "    <tr>\n",
       "      <th>9</th>\n",
       "      <td>Carabao</td>\n",
       "      <td>Backyard</td>\n",
       "      <td>Region I (Ilocos Region)</td>\n",
       "      <td>155287</td>\n",
       "      <td>..</td>\n",
       "      <td>150434</td>\n",
       "      <td>..</td>\n",
       "      <td>161524</td>\n",
       "      <td>..</td>\n",
       "      <td>191648</td>\n",
       "      <td>...</td>\n",
       "      <td>178890</td>\n",
       "      <td>..</td>\n",
       "      <td>165745</td>\n",
       "      <td>160828</td>\n",
       "      <td>156611</td>\n",
       "      <td>153234</td>\n",
       "      <td>150936</td>\n",
       "      <td>..</td>\n",
       "      <td>..</td>\n",
       "      <td>..</td>\n",
       "    </tr>\n",
       "  </tbody>\n",
       "</table>\n",
       "<p>10 rows × 123 columns</p>\n",
       "</div>"
      ],
      "text/plain": [
       "  Animal Type Farm Type                             Geolocation  \\\n",
       "0     Carabao  Backyard                             PHILIPPINES   \n",
       "1     Carabao  Backyard           National Capital Region (NCR)   \n",
       "2     Carabao  Backyard  Cordillera Administrative Region (CAR)   \n",
       "3     Carabao  Backyard                                ....Abra   \n",
       "4     Carabao  Backyard                              ....Apayao   \n",
       "5     Carabao  Backyard                             ....Benguet   \n",
       "6     Carabao  Backyard                              ....Ifugao   \n",
       "7     Carabao  Backyard                             ....Kalinga   \n",
       "8     Carabao  Backyard                   ....Mountain Province   \n",
       "9     Carabao  Backyard                Region I (Ilocos Region)   \n",
       "\n",
       "  1994 01 January 1994 01 April 1994 01 July 1994 01 October 1995 01 January  \\\n",
       "0         2555492            ..      2664806              ..         2702325   \n",
       "1              ..            ..           ..              ..              ..   \n",
       "2           89882            ..        97573              ..           99245   \n",
       "3           24784            ..        25952              ..           26377   \n",
       "4              ..            ..           ..              ..              ..   \n",
       "5            7503            ..        12105              ..           15333   \n",
       "6           16626            ..        17122              ..           16802   \n",
       "7           27063            ..        28844              ..           27359   \n",
       "8           13906            ..        13550              ..           13374   \n",
       "9          155287            ..       150434              ..          161524   \n",
       "\n",
       "  1995 01 April 1995 01 July  ... 2021 01 July 2021 01 October  \\\n",
       "0            ..      2832240  ...      2837583              ..   \n",
       "1            ..           ..  ...           ..              ..   \n",
       "2            ..       115566  ...        78747              ..   \n",
       "3            ..        35461  ...        16408              ..   \n",
       "4            ..           ..  ...        17309              ..   \n",
       "5            ..        22250  ...        11606              ..   \n",
       "6            ..        17478  ...         7649              ..   \n",
       "7            ..        28431  ...        20518              ..   \n",
       "8            ..        11946  ...         5257              ..   \n",
       "9            ..       191648  ...       178890              ..   \n",
       "\n",
       "  2022 01 January 2022 01 April 2022 01 July 2022 01 October 2023 01 January  \\\n",
       "0         2769604       2766991      2762309         2781425         2766009   \n",
       "1              ..            ..           ..              ..              ..   \n",
       "2           77218         77605        78637           79207           78579   \n",
       "3           17475         18075        17996           18591           17800   \n",
       "4           17856         17240        18175           18100           18045   \n",
       "5           11427         11433        11445           11713           11546   \n",
       "6            5470          5270         5276            5280            5861   \n",
       "7           19585         20090        20170           19883           19657   \n",
       "8            5405          5497         5575            5640            5670   \n",
       "9          165745        160828       156611          153234          150936   \n",
       "\n",
       "  2023 01 April 2023 01 July 2023 01 October  \n",
       "0            ..           ..              ..  \n",
       "1            ..           ..              ..  \n",
       "2            ..           ..              ..  \n",
       "3            ..           ..              ..  \n",
       "4            ..           ..              ..  \n",
       "5            ..           ..              ..  \n",
       "6            ..           ..              ..  \n",
       "7            ..           ..              ..  \n",
       "8            ..           ..              ..  \n",
       "9            ..           ..              ..  \n",
       "\n",
       "[10 rows x 123 columns]"
      ]
     },
     "execution_count": 9,
     "metadata": {},
     "output_type": "execute_result"
    }
   ],
   "source": [
    "df_livestock.head(10)"
   ]
  },
  {
   "cell_type": "code",
   "execution_count": 13,
   "id": "6b814568",
   "metadata": {},
   "outputs": [
    {
     "data": {
      "text/plain": [
       "(808, 123)"
      ]
     },
     "execution_count": 13,
     "metadata": {},
     "output_type": "execute_result"
    }
   ],
   "source": [
    "df_livestock.shape\n",
    "# 808 Rows and 123 Columns"
   ]
  },
  {
   "cell_type": "code",
   "execution_count": 14,
   "id": "77c9f986-1a0e-44a3-9e41-c63cdc20e1ca",
   "metadata": {},
   "outputs": [
    {
     "name": "stdout",
     "output_type": "stream",
     "text": [
      "<class 'pandas.core.frame.DataFrame'>\n",
      "RangeIndex: 808 entries, 0 to 807\n",
      "Columns: 123 entries, Animal Type to 2023 01 October\n",
      "dtypes: object(123)\n",
      "memory usage: 776.6+ KB\n"
     ]
    }
   ],
   "source": [
    "df_livestock.info()\n",
    "# First column is Animal Type and the last column is 2023 01 Otober"
   ]
  },
  {
   "cell_type": "code",
   "execution_count": 15,
   "id": "0e5ff2d5-1fb3-443b-b9fa-867518cdfea6",
   "metadata": {},
   "outputs": [
    {
     "data": {
      "text/html": [
       "<div>\n",
       "<style scoped>\n",
       "    .dataframe tbody tr th:only-of-type {\n",
       "        vertical-align: middle;\n",
       "    }\n",
       "\n",
       "    .dataframe tbody tr th {\n",
       "        vertical-align: top;\n",
       "    }\n",
       "\n",
       "    .dataframe thead th {\n",
       "        text-align: right;\n",
       "    }\n",
       "</style>\n",
       "<table border=\"1\" class=\"dataframe\">\n",
       "  <thead>\n",
       "    <tr style=\"text-align: right;\">\n",
       "      <th></th>\n",
       "      <th>Animal Type</th>\n",
       "      <th>Farm Type</th>\n",
       "      <th>Geolocation</th>\n",
       "      <th>1994 01 January</th>\n",
       "      <th>1994 01 April</th>\n",
       "      <th>1994 01 July</th>\n",
       "      <th>1994 01 October</th>\n",
       "      <th>1995 01 January</th>\n",
       "      <th>1995 01 April</th>\n",
       "      <th>1995 01 July</th>\n",
       "      <th>...</th>\n",
       "      <th>2021 01 July</th>\n",
       "      <th>2021 01 October</th>\n",
       "      <th>2022 01 January</th>\n",
       "      <th>2022 01 April</th>\n",
       "      <th>2022 01 July</th>\n",
       "      <th>2022 01 October</th>\n",
       "      <th>2023 01 January</th>\n",
       "      <th>2023 01 April</th>\n",
       "      <th>2023 01 July</th>\n",
       "      <th>2023 01 October</th>\n",
       "    </tr>\n",
       "  </thead>\n",
       "  <tbody>\n",
       "    <tr>\n",
       "      <th>count</th>\n",
       "      <td>808</td>\n",
       "      <td>808</td>\n",
       "      <td>808</td>\n",
       "      <td>808</td>\n",
       "      <td>808</td>\n",
       "      <td>808</td>\n",
       "      <td>808</td>\n",
       "      <td>808</td>\n",
       "      <td>808</td>\n",
       "      <td>808</td>\n",
       "      <td>...</td>\n",
       "      <td>808</td>\n",
       "      <td>808</td>\n",
       "      <td>808</td>\n",
       "      <td>808</td>\n",
       "      <td>808</td>\n",
       "      <td>808</td>\n",
       "      <td>808</td>\n",
       "      <td>808</td>\n",
       "      <td>808</td>\n",
       "      <td>808</td>\n",
       "    </tr>\n",
       "    <tr>\n",
       "      <th>unique</th>\n",
       "      <td>4</td>\n",
       "      <td>2</td>\n",
       "      <td>101</td>\n",
       "      <td>590</td>\n",
       "      <td>162</td>\n",
       "      <td>618</td>\n",
       "      <td>171</td>\n",
       "      <td>609</td>\n",
       "      <td>170</td>\n",
       "      <td>615</td>\n",
       "      <td>...</td>\n",
       "      <td>677</td>\n",
       "      <td>193</td>\n",
       "      <td>629</td>\n",
       "      <td>619</td>\n",
       "      <td>616</td>\n",
       "      <td>616</td>\n",
       "      <td>609</td>\n",
       "      <td>1</td>\n",
       "      <td>1</td>\n",
       "      <td>1</td>\n",
       "    </tr>\n",
       "    <tr>\n",
       "      <th>top</th>\n",
       "      <td>Carabao</td>\n",
       "      <td>Backyard</td>\n",
       "      <td>PHILIPPINES</td>\n",
       "      <td>..</td>\n",
       "      <td>..</td>\n",
       "      <td>..</td>\n",
       "      <td>..</td>\n",
       "      <td>..</td>\n",
       "      <td>..</td>\n",
       "      <td>..</td>\n",
       "      <td>...</td>\n",
       "      <td>..</td>\n",
       "      <td>..</td>\n",
       "      <td>..</td>\n",
       "      <td>..</td>\n",
       "      <td>..</td>\n",
       "      <td>..</td>\n",
       "      <td>..</td>\n",
       "      <td>..</td>\n",
       "      <td>..</td>\n",
       "      <td>..</td>\n",
       "    </tr>\n",
       "    <tr>\n",
       "      <th>freq</th>\n",
       "      <td>202</td>\n",
       "      <td>404</td>\n",
       "      <td>8</td>\n",
       "      <td>184</td>\n",
       "      <td>645</td>\n",
       "      <td>161</td>\n",
       "      <td>637</td>\n",
       "      <td>147</td>\n",
       "      <td>635</td>\n",
       "      <td>160</td>\n",
       "      <td>...</td>\n",
       "      <td>96</td>\n",
       "      <td>614</td>\n",
       "      <td>146</td>\n",
       "      <td>146</td>\n",
       "      <td>151</td>\n",
       "      <td>149</td>\n",
       "      <td>150</td>\n",
       "      <td>808</td>\n",
       "      <td>808</td>\n",
       "      <td>808</td>\n",
       "    </tr>\n",
       "  </tbody>\n",
       "</table>\n",
       "<p>4 rows × 123 columns</p>\n",
       "</div>"
      ],
      "text/plain": [
       "       Animal Type Farm Type  Geolocation 1994 01 January 1994 01 April  \\\n",
       "count          808       808          808             808           808   \n",
       "unique           4         2          101             590           162   \n",
       "top        Carabao  Backyard  PHILIPPINES              ..            ..   \n",
       "freq           202       404            8             184           645   \n",
       "\n",
       "       1994 01 July 1994 01 October 1995 01 January 1995 01 April  \\\n",
       "count           808             808             808           808   \n",
       "unique          618             171             609           170   \n",
       "top              ..              ..              ..            ..   \n",
       "freq            161             637             147           635   \n",
       "\n",
       "       1995 01 July  ... 2021 01 July 2021 01 October 2022 01 January  \\\n",
       "count           808  ...          808             808             808   \n",
       "unique          615  ...          677             193             629   \n",
       "top              ..  ...           ..              ..              ..   \n",
       "freq            160  ...           96             614             146   \n",
       "\n",
       "       2022 01 April 2022 01 July 2022 01 October 2023 01 January  \\\n",
       "count            808          808             808             808   \n",
       "unique           619          616             616             609   \n",
       "top               ..           ..              ..              ..   \n",
       "freq             146          151             149             150   \n",
       "\n",
       "       2023 01 April 2023 01 July 2023 01 October  \n",
       "count            808          808             808  \n",
       "unique             1            1               1  \n",
       "top               ..           ..              ..  \n",
       "freq             808          808             808  \n",
       "\n",
       "[4 rows x 123 columns]"
      ]
     },
     "execution_count": 15,
     "metadata": {},
     "output_type": "execute_result"
    }
   ],
   "source": [
    "df_livestock.describe()"
   ]
  },
  {
   "cell_type": "code",
   "execution_count": 16,
   "id": "393b47d8-9a3d-423f-b746-3c1ca48605d6",
   "metadata": {},
   "outputs": [
    {
     "data": {
      "text/plain": [
       "Index(['Animal Type', 'Farm Type', 'Geolocation', '1994 01 January',\n",
       "       '1994 01 April', '1994 01 July', '1994 01 October', '1995 01 January',\n",
       "       '1995 01 April', '1995 01 July',\n",
       "       ...\n",
       "       '2021 01 July', '2021 01 October', '2022 01 January', '2022 01 April',\n",
       "       '2022 01 July', '2022 01 October', '2023 01 January', '2023 01 April',\n",
       "       '2023 01 July', '2023 01 October'],\n",
       "      dtype='object', length=123)"
      ]
     },
     "execution_count": 16,
     "metadata": {},
     "output_type": "execute_result"
    }
   ],
   "source": [
    "df_livestock.columns"
   ]
  },
  {
   "cell_type": "code",
   "execution_count": 21,
   "id": "a1eca5cc",
   "metadata": {},
   "outputs": [
    {
     "name": "stdout",
     "output_type": "stream",
     "text": [
      "The following are the null columns:\n",
      "****************************************************\n",
      "Index(['2023 01 April', '2023 01 July', '2023 01 October'], dtype='object')\n",
      "****************************************************\n"
     ]
    }
   ],
   "source": [
    "# Finding Columns that are completely null.\n",
    "\n",
    "df_livestock_with_null = df_livestock.copy() # Making a duplicate dataframe.\n",
    "\n",
    "df_livestock_with_null.replace(['..', '', ' ', '**', '*'], np.nan, inplace=True)\n",
    "# \"np.nan\" It is used to represent missing or undefined values in a dataset.\n",
    "# \"inplace=True\" means the operation is performed directly on the original DataFrame (or copy of it) without returning a new object.\n",
    "# Parameters (to be replaced, replace with, perform directly on the copy)\n",
    "\n",
    "# Identifies columns where all the values are NaN (missing) in the df_livestock_with_null DataFrame.\n",
    "null_columns = df_livestock_with_null.columns[df_livestock_with_null.isnull().all()]\n",
    "print(\"The following are the null columns:\") \n",
    "print(\"****************************************************\")\n",
    "print(null_columns)\n",
    "print(\"****************************************************\")"
   ]
  },
  {
   "cell_type": "code",
   "execution_count": 461,
   "id": "d0346b21",
   "metadata": {},
   "outputs": [
    {
     "data": {
      "text/plain": [
       "Animal Type          0\n",
       "Farm Type            0\n",
       "Geolocation          0\n",
       "1994 01 January    184\n",
       "1994 01 April      645\n",
       "                  ... \n",
       "2022 01 October    162\n",
       "2023 01 January    163\n",
       "2023 01 April      808\n",
       "2023 01 July       808\n",
       "2023 01 October    808\n",
       "Length: 123, dtype: int64"
      ]
     },
     "execution_count": 461,
     "metadata": {},
     "output_type": "execute_result"
    }
   ],
   "source": [
    "# Counting the number of Null Values Each Column\n",
    "\n",
    "df_livestock_with_null.isnull().sum()"
   ]
  },
  {
   "cell_type": "code",
   "execution_count": 462,
   "id": "5dd6a22e",
   "metadata": {},
   "outputs": [
    {
     "data": {
      "text/html": [
       "<div>\n",
       "<style scoped>\n",
       "    .dataframe tbody tr th:only-of-type {\n",
       "        vertical-align: middle;\n",
       "    }\n",
       "\n",
       "    .dataframe tbody tr th {\n",
       "        vertical-align: top;\n",
       "    }\n",
       "\n",
       "    .dataframe thead th {\n",
       "        text-align: right;\n",
       "    }\n",
       "</style>\n",
       "<table border=\"1\" class=\"dataframe\">\n",
       "  <thead>\n",
       "    <tr style=\"text-align: right;\">\n",
       "      <th></th>\n",
       "      <th>Animal Type</th>\n",
       "      <th>Farm Type</th>\n",
       "      <th>Geolocation</th>\n",
       "      <th>1994 01 January</th>\n",
       "      <th>1994 01 April</th>\n",
       "      <th>1994 01 July</th>\n",
       "      <th>1994 01 October</th>\n",
       "      <th>1995 01 January</th>\n",
       "      <th>1995 01 April</th>\n",
       "      <th>1995 01 July</th>\n",
       "      <th>...</th>\n",
       "      <th>2021 01 July</th>\n",
       "      <th>2021 01 October</th>\n",
       "      <th>2022 01 January</th>\n",
       "      <th>2022 01 April</th>\n",
       "      <th>2022 01 July</th>\n",
       "      <th>2022 01 October</th>\n",
       "      <th>2023 01 January</th>\n",
       "      <th>2023 01 April</th>\n",
       "      <th>2023 01 July</th>\n",
       "      <th>2023 01 October</th>\n",
       "    </tr>\n",
       "  </thead>\n",
       "  <tbody>\n",
       "    <tr>\n",
       "      <th>0</th>\n",
       "      <td>Carabao</td>\n",
       "      <td>Backyard</td>\n",
       "      <td>PHILIPPINES</td>\n",
       "      <td>2555492</td>\n",
       "      <td>NaN</td>\n",
       "      <td>2664806</td>\n",
       "      <td>NaN</td>\n",
       "      <td>2702325</td>\n",
       "      <td>NaN</td>\n",
       "      <td>2832240</td>\n",
       "      <td>...</td>\n",
       "      <td>2837583</td>\n",
       "      <td>NaN</td>\n",
       "      <td>2769604</td>\n",
       "      <td>2766991</td>\n",
       "      <td>2762309</td>\n",
       "      <td>2781425</td>\n",
       "      <td>2766009</td>\n",
       "      <td>NaN</td>\n",
       "      <td>NaN</td>\n",
       "      <td>NaN</td>\n",
       "    </tr>\n",
       "    <tr>\n",
       "      <th>1</th>\n",
       "      <td>Carabao</td>\n",
       "      <td>Backyard</td>\n",
       "      <td>National Capital Region (NCR)</td>\n",
       "      <td>NaN</td>\n",
       "      <td>NaN</td>\n",
       "      <td>NaN</td>\n",
       "      <td>NaN</td>\n",
       "      <td>NaN</td>\n",
       "      <td>NaN</td>\n",
       "      <td>NaN</td>\n",
       "      <td>...</td>\n",
       "      <td>NaN</td>\n",
       "      <td>NaN</td>\n",
       "      <td>NaN</td>\n",
       "      <td>NaN</td>\n",
       "      <td>NaN</td>\n",
       "      <td>NaN</td>\n",
       "      <td>NaN</td>\n",
       "      <td>NaN</td>\n",
       "      <td>NaN</td>\n",
       "      <td>NaN</td>\n",
       "    </tr>\n",
       "    <tr>\n",
       "      <th>2</th>\n",
       "      <td>Carabao</td>\n",
       "      <td>Backyard</td>\n",
       "      <td>Cordillera Administrative Region (CAR)</td>\n",
       "      <td>89882</td>\n",
       "      <td>NaN</td>\n",
       "      <td>97573</td>\n",
       "      <td>NaN</td>\n",
       "      <td>99245</td>\n",
       "      <td>NaN</td>\n",
       "      <td>115566</td>\n",
       "      <td>...</td>\n",
       "      <td>78747</td>\n",
       "      <td>NaN</td>\n",
       "      <td>77218</td>\n",
       "      <td>77605</td>\n",
       "      <td>78637</td>\n",
       "      <td>79207</td>\n",
       "      <td>78579</td>\n",
       "      <td>NaN</td>\n",
       "      <td>NaN</td>\n",
       "      <td>NaN</td>\n",
       "    </tr>\n",
       "    <tr>\n",
       "      <th>3</th>\n",
       "      <td>Carabao</td>\n",
       "      <td>Backyard</td>\n",
       "      <td>....Abra</td>\n",
       "      <td>24784</td>\n",
       "      <td>NaN</td>\n",
       "      <td>25952</td>\n",
       "      <td>NaN</td>\n",
       "      <td>26377</td>\n",
       "      <td>NaN</td>\n",
       "      <td>35461</td>\n",
       "      <td>...</td>\n",
       "      <td>16408</td>\n",
       "      <td>NaN</td>\n",
       "      <td>17475</td>\n",
       "      <td>18075</td>\n",
       "      <td>17996</td>\n",
       "      <td>18591</td>\n",
       "      <td>17800</td>\n",
       "      <td>NaN</td>\n",
       "      <td>NaN</td>\n",
       "      <td>NaN</td>\n",
       "    </tr>\n",
       "    <tr>\n",
       "      <th>4</th>\n",
       "      <td>Carabao</td>\n",
       "      <td>Backyard</td>\n",
       "      <td>....Apayao</td>\n",
       "      <td>NaN</td>\n",
       "      <td>NaN</td>\n",
       "      <td>NaN</td>\n",
       "      <td>NaN</td>\n",
       "      <td>NaN</td>\n",
       "      <td>NaN</td>\n",
       "      <td>NaN</td>\n",
       "      <td>...</td>\n",
       "      <td>17309</td>\n",
       "      <td>NaN</td>\n",
       "      <td>17856</td>\n",
       "      <td>17240</td>\n",
       "      <td>18175</td>\n",
       "      <td>18100</td>\n",
       "      <td>18045</td>\n",
       "      <td>NaN</td>\n",
       "      <td>NaN</td>\n",
       "      <td>NaN</td>\n",
       "    </tr>\n",
       "    <tr>\n",
       "      <th>5</th>\n",
       "      <td>Carabao</td>\n",
       "      <td>Backyard</td>\n",
       "      <td>....Benguet</td>\n",
       "      <td>7503</td>\n",
       "      <td>NaN</td>\n",
       "      <td>12105</td>\n",
       "      <td>NaN</td>\n",
       "      <td>15333</td>\n",
       "      <td>NaN</td>\n",
       "      <td>22250</td>\n",
       "      <td>...</td>\n",
       "      <td>11606</td>\n",
       "      <td>NaN</td>\n",
       "      <td>11427</td>\n",
       "      <td>11433</td>\n",
       "      <td>11445</td>\n",
       "      <td>11713</td>\n",
       "      <td>11546</td>\n",
       "      <td>NaN</td>\n",
       "      <td>NaN</td>\n",
       "      <td>NaN</td>\n",
       "    </tr>\n",
       "    <tr>\n",
       "      <th>6</th>\n",
       "      <td>Carabao</td>\n",
       "      <td>Backyard</td>\n",
       "      <td>....Ifugao</td>\n",
       "      <td>16626</td>\n",
       "      <td>NaN</td>\n",
       "      <td>17122</td>\n",
       "      <td>NaN</td>\n",
       "      <td>16802</td>\n",
       "      <td>NaN</td>\n",
       "      <td>17478</td>\n",
       "      <td>...</td>\n",
       "      <td>7649</td>\n",
       "      <td>NaN</td>\n",
       "      <td>5470</td>\n",
       "      <td>5270</td>\n",
       "      <td>5276</td>\n",
       "      <td>5280</td>\n",
       "      <td>5861</td>\n",
       "      <td>NaN</td>\n",
       "      <td>NaN</td>\n",
       "      <td>NaN</td>\n",
       "    </tr>\n",
       "    <tr>\n",
       "      <th>7</th>\n",
       "      <td>Carabao</td>\n",
       "      <td>Backyard</td>\n",
       "      <td>....Kalinga</td>\n",
       "      <td>27063</td>\n",
       "      <td>NaN</td>\n",
       "      <td>28844</td>\n",
       "      <td>NaN</td>\n",
       "      <td>27359</td>\n",
       "      <td>NaN</td>\n",
       "      <td>28431</td>\n",
       "      <td>...</td>\n",
       "      <td>20518</td>\n",
       "      <td>NaN</td>\n",
       "      <td>19585</td>\n",
       "      <td>20090</td>\n",
       "      <td>20170</td>\n",
       "      <td>19883</td>\n",
       "      <td>19657</td>\n",
       "      <td>NaN</td>\n",
       "      <td>NaN</td>\n",
       "      <td>NaN</td>\n",
       "    </tr>\n",
       "    <tr>\n",
       "      <th>8</th>\n",
       "      <td>Carabao</td>\n",
       "      <td>Backyard</td>\n",
       "      <td>....Mountain Province</td>\n",
       "      <td>13906</td>\n",
       "      <td>NaN</td>\n",
       "      <td>13550</td>\n",
       "      <td>NaN</td>\n",
       "      <td>13374</td>\n",
       "      <td>NaN</td>\n",
       "      <td>11946</td>\n",
       "      <td>...</td>\n",
       "      <td>5257</td>\n",
       "      <td>NaN</td>\n",
       "      <td>5405</td>\n",
       "      <td>5497</td>\n",
       "      <td>5575</td>\n",
       "      <td>5640</td>\n",
       "      <td>5670</td>\n",
       "      <td>NaN</td>\n",
       "      <td>NaN</td>\n",
       "      <td>NaN</td>\n",
       "    </tr>\n",
       "    <tr>\n",
       "      <th>9</th>\n",
       "      <td>Carabao</td>\n",
       "      <td>Backyard</td>\n",
       "      <td>Region I (Ilocos Region)</td>\n",
       "      <td>155287</td>\n",
       "      <td>NaN</td>\n",
       "      <td>150434</td>\n",
       "      <td>NaN</td>\n",
       "      <td>161524</td>\n",
       "      <td>NaN</td>\n",
       "      <td>191648</td>\n",
       "      <td>...</td>\n",
       "      <td>178890</td>\n",
       "      <td>NaN</td>\n",
       "      <td>165745</td>\n",
       "      <td>160828</td>\n",
       "      <td>156611</td>\n",
       "      <td>153234</td>\n",
       "      <td>150936</td>\n",
       "      <td>NaN</td>\n",
       "      <td>NaN</td>\n",
       "      <td>NaN</td>\n",
       "    </tr>\n",
       "  </tbody>\n",
       "</table>\n",
       "<p>10 rows × 123 columns</p>\n",
       "</div>"
      ],
      "text/plain": [
       "  Animal Type Farm Type                             Geolocation  \\\n",
       "0     Carabao  Backyard                             PHILIPPINES   \n",
       "1     Carabao  Backyard           National Capital Region (NCR)   \n",
       "2     Carabao  Backyard  Cordillera Administrative Region (CAR)   \n",
       "3     Carabao  Backyard                                ....Abra   \n",
       "4     Carabao  Backyard                              ....Apayao   \n",
       "5     Carabao  Backyard                             ....Benguet   \n",
       "6     Carabao  Backyard                              ....Ifugao   \n",
       "7     Carabao  Backyard                             ....Kalinga   \n",
       "8     Carabao  Backyard                   ....Mountain Province   \n",
       "9     Carabao  Backyard                Region I (Ilocos Region)   \n",
       "\n",
       "  1994 01 January 1994 01 April 1994 01 July 1994 01 October 1995 01 January  \\\n",
       "0         2555492           NaN      2664806             NaN         2702325   \n",
       "1             NaN           NaN          NaN             NaN             NaN   \n",
       "2           89882           NaN        97573             NaN           99245   \n",
       "3           24784           NaN        25952             NaN           26377   \n",
       "4             NaN           NaN          NaN             NaN             NaN   \n",
       "5            7503           NaN        12105             NaN           15333   \n",
       "6           16626           NaN        17122             NaN           16802   \n",
       "7           27063           NaN        28844             NaN           27359   \n",
       "8           13906           NaN        13550             NaN           13374   \n",
       "9          155287           NaN       150434             NaN          161524   \n",
       "\n",
       "  1995 01 April 1995 01 July  ... 2021 01 July 2021 01 October  \\\n",
       "0           NaN      2832240  ...      2837583             NaN   \n",
       "1           NaN          NaN  ...          NaN             NaN   \n",
       "2           NaN       115566  ...        78747             NaN   \n",
       "3           NaN        35461  ...        16408             NaN   \n",
       "4           NaN          NaN  ...        17309             NaN   \n",
       "5           NaN        22250  ...        11606             NaN   \n",
       "6           NaN        17478  ...         7649             NaN   \n",
       "7           NaN        28431  ...        20518             NaN   \n",
       "8           NaN        11946  ...         5257             NaN   \n",
       "9           NaN       191648  ...       178890             NaN   \n",
       "\n",
       "  2022 01 January 2022 01 April 2022 01 July 2022 01 October 2023 01 January  \\\n",
       "0         2769604       2766991      2762309         2781425         2766009   \n",
       "1             NaN           NaN          NaN             NaN             NaN   \n",
       "2           77218         77605        78637           79207           78579   \n",
       "3           17475         18075        17996           18591           17800   \n",
       "4           17856         17240        18175           18100           18045   \n",
       "5           11427         11433        11445           11713           11546   \n",
       "6            5470          5270         5276            5280            5861   \n",
       "7           19585         20090        20170           19883           19657   \n",
       "8            5405          5497         5575            5640            5670   \n",
       "9          165745        160828       156611          153234          150936   \n",
       "\n",
       "  2023 01 April 2023 01 July 2023 01 October  \n",
       "0           NaN          NaN             NaN  \n",
       "1           NaN          NaN             NaN  \n",
       "2           NaN          NaN             NaN  \n",
       "3           NaN          NaN             NaN  \n",
       "4           NaN          NaN             NaN  \n",
       "5           NaN          NaN             NaN  \n",
       "6           NaN          NaN             NaN  \n",
       "7           NaN          NaN             NaN  \n",
       "8           NaN          NaN             NaN  \n",
       "9           NaN          NaN             NaN  \n",
       "\n",
       "[10 rows x 123 columns]"
      ]
     },
     "execution_count": 462,
     "metadata": {},
     "output_type": "execute_result"
    }
   ],
   "source": [
    "# Looking at the Dataset with null values included.\n",
    "\n",
    "df_livestock_with_null.head(10)"
   ]
  },
  {
   "cell_type": "code",
   "execution_count": 463,
   "id": "c3ddf3d5",
   "metadata": {},
   "outputs": [
    {
     "data": {
      "text/plain": [
       "Animal Type         object\n",
       "Farm Type           object\n",
       "Geolocation         object\n",
       "1994 01 January     object\n",
       "1994 01 April       object\n",
       "                    ...   \n",
       "2022 01 October     object\n",
       "2023 01 January     object\n",
       "2023 01 April      float64\n",
       "2023 01 July       float64\n",
       "2023 01 October    float64\n",
       "Length: 123, dtype: object"
      ]
     },
     "execution_count": 463,
     "metadata": {},
     "output_type": "execute_result"
    }
   ],
   "source": [
    "# Checking the Data Type of each column.\n",
    "df_livestock_with_null.dtypes"
   ]
  },
  {
   "cell_type": "markdown",
   "id": "9d9713db-65a5-4ee8-8729-d97910c35e60",
   "metadata": {},
   "source": [
    "#### ➡️ Standardizing Data Types"
   ]
  },
  {
   "cell_type": "markdown",
   "id": "59dcce89-ed5e-4ff4-b188-986dadec7b05",
   "metadata": {},
   "source": [
    "Convert the columns `Animal Type`, `Farm Type`, and `Geolocation` to categorical from object data type."
   ]
  },
  {
   "cell_type": "code",
   "execution_count": 464,
   "id": "3e34f209-39f5-431b-ad29-a7b3cc88bdf7",
   "metadata": {},
   "outputs": [],
   "source": [
    "df_livestock['Animal Type'] = df_livestock['Animal Type'].astype('category')\n",
    "df_livestock['Farm Type'] = df_livestock['Farm Type'].astype('category')\n",
    "df_livestock['Geolocation'] = df_livestock['Geolocation'].astype('category')"
   ]
  },
  {
   "cell_type": "markdown",
   "id": "386c84d6-ef2e-4582-90ff-bcfe8983241d",
   "metadata": {},
   "source": [
    "#### ➡️ Create a data dictionary"
   ]
  },
  {
   "cell_type": "code",
   "execution_count": 465,
   "id": "4ba994d3-8b41-43ad-bc86-298526e3cd47",
   "metadata": {},
   "outputs": [
    {
     "name": "stdout",
     "output_type": "stream",
     "text": [
      "| Column Name     | Data Type   | Description                                                         |\n",
      "|:----------------|:------------|:--------------------------------------------------------------------|\n",
      "| Animal Type     | category    | Type of animal present in the farm                                  |\n",
      "| Farm Type       | category    | Type of farm where the animals are (e.g., backyard, commercial)     |\n",
      "| Geolocation     | category    | Region and province in the Philippines                              |\n",
      "| 1994 01 January | object      | Number of animals present in the farm as of specific reference date |\n",
      "| 1994 01 April   | object      | Number of animals present in the farm as of specific reference date |\n",
      "| 1994 01 July    | object      | Number of animals present in the farm as of specific reference date |\n",
      "| 1994 01 October | object      | Number of animals present in the farm as of specific reference date |\n",
      "| 1995 01 January | object      | Number of animals present in the farm as of specific reference date |\n",
      "| 1995 01 April   | object      | Number of animals present in the farm as of specific reference date |\n",
      "| 1995 01 July    | object      | Number of animals present in the farm as of specific reference date |\n",
      "| 1995 01 October | object      | Number of animals present in the farm as of specific reference date |\n",
      "| 1996 01 January | object      | Number of animals present in the farm as of specific reference date |\n",
      "| 1996 01 April   | object      | Number of animals present in the farm as of specific reference date |\n",
      "| 1996 01 July    | object      | Number of animals present in the farm as of specific reference date |\n",
      "| 1996 01 October | object      | Number of animals present in the farm as of specific reference date |\n",
      "| 1997 01 January | object      | Number of animals present in the farm as of specific reference date |\n",
      "| 1997 01 April   | object      | Number of animals present in the farm as of specific reference date |\n",
      "| 1997 01 July    | object      | Number of animals present in the farm as of specific reference date |\n",
      "| 1997 01 October | object      | Number of animals present in the farm as of specific reference date |\n",
      "| 1998 01 January | object      | Number of animals present in the farm as of specific reference date |\n",
      "| 1998 01 April   | object      | Number of animals present in the farm as of specific reference date |\n",
      "| 1998 01 July    | object      | Number of animals present in the farm as of specific reference date |\n",
      "| 1998 01 October | object      | Number of animals present in the farm as of specific reference date |\n",
      "| 1999 01 January | object      | Number of animals present in the farm as of specific reference date |\n",
      "| 1999 01 April   | object      | Number of animals present in the farm as of specific reference date |\n",
      "| 1999 01 July    | object      | Number of animals present in the farm as of specific reference date |\n",
      "| 1999 01 October | object      | Number of animals present in the farm as of specific reference date |\n",
      "| 2000 01 January | object      | Number of animals present in the farm as of specific reference date |\n",
      "| 2000 01 April   | object      | Number of animals present in the farm as of specific reference date |\n",
      "| 2000 01 July    | object      | Number of animals present in the farm as of specific reference date |\n",
      "| 2000 01 October | object      | Number of animals present in the farm as of specific reference date |\n",
      "| 2001 01 January | object      | Number of animals present in the farm as of specific reference date |\n",
      "| 2001 01 April   | object      | Number of animals present in the farm as of specific reference date |\n",
      "| 2001 01 July    | object      | Number of animals present in the farm as of specific reference date |\n",
      "| 2001 01 October | object      | Number of animals present in the farm as of specific reference date |\n",
      "| 2002 01 January | object      | Number of animals present in the farm as of specific reference date |\n",
      "| 2002 01 April   | object      | Number of animals present in the farm as of specific reference date |\n",
      "| 2002 01 July    | object      | Number of animals present in the farm as of specific reference date |\n",
      "| 2002 01 October | object      | Number of animals present in the farm as of specific reference date |\n",
      "| 2003 01 January | object      | Number of animals present in the farm as of specific reference date |\n",
      "| 2003 01 April   | object      | Number of animals present in the farm as of specific reference date |\n",
      "| 2003 01 July    | object      | Number of animals present in the farm as of specific reference date |\n",
      "| 2003 01 October | object      | Number of animals present in the farm as of specific reference date |\n",
      "| 2004 01 January | object      | Number of animals present in the farm as of specific reference date |\n",
      "| 2004 01 April   | object      | Number of animals present in the farm as of specific reference date |\n",
      "| 2004 01 July    | object      | Number of animals present in the farm as of specific reference date |\n",
      "| 2004 01 October | object      | Number of animals present in the farm as of specific reference date |\n",
      "| 2005 01 January | object      | Number of animals present in the farm as of specific reference date |\n",
      "| 2005 01 April   | object      | Number of animals present in the farm as of specific reference date |\n",
      "| 2005 01 July    | object      | Number of animals present in the farm as of specific reference date |\n",
      "| 2005 01 October | object      | Number of animals present in the farm as of specific reference date |\n",
      "| 2006 01 January | object      | Number of animals present in the farm as of specific reference date |\n",
      "| 2006 01 April   | object      | Number of animals present in the farm as of specific reference date |\n",
      "| 2006 01 July    | object      | Number of animals present in the farm as of specific reference date |\n",
      "| 2006 01 October | object      | Number of animals present in the farm as of specific reference date |\n",
      "| 2007 01 January | object      | Number of animals present in the farm as of specific reference date |\n",
      "| 2007 01 April   | object      | Number of animals present in the farm as of specific reference date |\n",
      "| 2007 01 July    | object      | Number of animals present in the farm as of specific reference date |\n",
      "| 2007 01 October | object      | Number of animals present in the farm as of specific reference date |\n",
      "| 2008 01 January | object      | Number of animals present in the farm as of specific reference date |\n",
      "| 2008 01 April   | object      | Number of animals present in the farm as of specific reference date |\n",
      "| 2008 01 July    | object      | Number of animals present in the farm as of specific reference date |\n",
      "| 2008 01 October | object      | Number of animals present in the farm as of specific reference date |\n",
      "| 2009 01 January | object      | Number of animals present in the farm as of specific reference date |\n",
      "| 2009 01 April   | object      | Number of animals present in the farm as of specific reference date |\n",
      "| 2009 01 July    | object      | Number of animals present in the farm as of specific reference date |\n",
      "| 2009 01 October | object      | Number of animals present in the farm as of specific reference date |\n",
      "| 2010 01 January | object      | Number of animals present in the farm as of specific reference date |\n",
      "| 2010 01 April   | object      | Number of animals present in the farm as of specific reference date |\n",
      "| 2010 01 July    | object      | Number of animals present in the farm as of specific reference date |\n",
      "| 2010 01 October | object      | Number of animals present in the farm as of specific reference date |\n",
      "| 2011 01 January | object      | Number of animals present in the farm as of specific reference date |\n",
      "| 2011 01 April   | object      | Number of animals present in the farm as of specific reference date |\n",
      "| 2011 01 July    | object      | Number of animals present in the farm as of specific reference date |\n",
      "| 2011 01 October | object      | Number of animals present in the farm as of specific reference date |\n",
      "| 2012 01 January | object      | Number of animals present in the farm as of specific reference date |\n",
      "| 2012 01 April   | object      | Number of animals present in the farm as of specific reference date |\n",
      "| 2012 01 July    | object      | Number of animals present in the farm as of specific reference date |\n",
      "| 2012 01 October | object      | Number of animals present in the farm as of specific reference date |\n",
      "| 2013 01 January | object      | Number of animals present in the farm as of specific reference date |\n",
      "| 2013 01 April   | object      | Number of animals present in the farm as of specific reference date |\n",
      "| 2013 01 July    | object      | Number of animals present in the farm as of specific reference date |\n",
      "| 2013 01 October | object      | Number of animals present in the farm as of specific reference date |\n",
      "| 2014 01 January | object      | Number of animals present in the farm as of specific reference date |\n",
      "| 2014 01 April   | object      | Number of animals present in the farm as of specific reference date |\n",
      "| 2014 01 July    | object      | Number of animals present in the farm as of specific reference date |\n",
      "| 2014 01 October | object      | Number of animals present in the farm as of specific reference date |\n",
      "| 2015 01 January | object      | Number of animals present in the farm as of specific reference date |\n",
      "| 2015 01 April   | object      | Number of animals present in the farm as of specific reference date |\n",
      "| 2015 01 July    | object      | Number of animals present in the farm as of specific reference date |\n",
      "| 2015 01 October | object      | Number of animals present in the farm as of specific reference date |\n",
      "| 2016 01 January | object      | Number of animals present in the farm as of specific reference date |\n",
      "| 2016 01 April   | object      | Number of animals present in the farm as of specific reference date |\n",
      "| 2016 01 July    | object      | Number of animals present in the farm as of specific reference date |\n",
      "| 2016 01 October | object      | Number of animals present in the farm as of specific reference date |\n",
      "| 2017 01 January | object      | Number of animals present in the farm as of specific reference date |\n",
      "| 2017 01 April   | object      | Number of animals present in the farm as of specific reference date |\n",
      "| 2017 01 July    | object      | Number of animals present in the farm as of specific reference date |\n",
      "| 2017 01 October | object      | Number of animals present in the farm as of specific reference date |\n",
      "| 2018 01 January | object      | Number of animals present in the farm as of specific reference date |\n",
      "| 2018 01 April   | object      | Number of animals present in the farm as of specific reference date |\n",
      "| 2018 01 July    | object      | Number of animals present in the farm as of specific reference date |\n",
      "| 2018 01 October | object      | Number of animals present in the farm as of specific reference date |\n",
      "| 2019 01 January | object      | Number of animals present in the farm as of specific reference date |\n",
      "| 2019 01 April   | object      | Number of animals present in the farm as of specific reference date |\n",
      "| 2019 01 July    | object      | Number of animals present in the farm as of specific reference date |\n",
      "| 2019 01 October | object      | Number of animals present in the farm as of specific reference date |\n",
      "| 2020 01 January | object      | Number of animals present in the farm as of specific reference date |\n",
      "| 2020 01 April   | object      | Number of animals present in the farm as of specific reference date |\n",
      "| 2020 01 July    | object      | Number of animals present in the farm as of specific reference date |\n",
      "| 2020 01 October | object      | Number of animals present in the farm as of specific reference date |\n",
      "| 2021 01 January | object      | Number of animals present in the farm as of specific reference date |\n",
      "| 2021 01 April   | object      | Number of animals present in the farm as of specific reference date |\n",
      "| 2021 01 July    | object      | Number of animals present in the farm as of specific reference date |\n",
      "| 2021 01 October | object      | Number of animals present in the farm as of specific reference date |\n",
      "| 2022 01 January | object      | Number of animals present in the farm as of specific reference date |\n",
      "| 2022 01 April   | object      | Number of animals present in the farm as of specific reference date |\n",
      "| 2022 01 July    | object      | Number of animals present in the farm as of specific reference date |\n",
      "| 2022 01 October | object      | Number of animals present in the farm as of specific reference date |\n",
      "| 2023 01 January | object      | Number of animals present in the farm as of specific reference date |\n",
      "| 2023 01 April   | object      | Number of animals present in the farm as of specific reference date |\n",
      "| 2023 01 July    | object      | Number of animals present in the farm as of specific reference date |\n",
      "| 2023 01 October | object      | Number of animals present in the farm as of specific reference date |\n"
     ]
    }
   ],
   "source": [
    "def create_data_dict(df):\n",
    "    descriptions = {\n",
    "        'Animal Type': 'Type of animal present in the farm',\n",
    "        'Farm Type': 'Type of farm where the animals are (e.g., backyard, commercial)',\n",
    "        'Geolocation': 'Region and province in the Philippines'\n",
    "    }\n",
    "    \n",
    "    date_columns = [col for col in df.columns if col.startswith(('19', '20'))]\n",
    "    date_descriptions = {col: 'Number of animals present in the farm as of specific reference date' for col in date_columns}\n",
    "\n",
    "    descriptions.update(date_descriptions)\n",
    "    \n",
    "    data_dict = pd.DataFrame({\n",
    "        'Column Name': df.columns,\n",
    "        'Data Type': df.dtypes,\n",
    "        'Description': [descriptions.get(col, 'No description available') for col in df.columns]\n",
    "    })\n",
    "    \n",
    "    return data_dict\n",
    "\n",
    "data_dict_fao = create_data_dict(df_livestock)\n",
    "print(data_dict_fao.to_markdown(index=False))\n"
   ]
  },
  {
   "cell_type": "code",
   "execution_count": 466,
   "id": "6dae42a8-c849-4b13-b906-70964886935c",
   "metadata": {},
   "outputs": [
    {
     "name": "stdout",
     "output_type": "stream",
     "text": [
      "Footnotes of the dataset:\n",
      "\n",
      "    .. Data not applicable\n",
      "    01 Jan 2023 - Preliminary\n",
      "    01 Jan 2022 - Revised for Cattle\n",
      "    01 Apr 2022 - Revised for Carabao\n",
      "    * - Zamboanga City included in Zamboanga del Sur.\n",
      "    ** - Davao City included in Davao del Sur.\n",
      "    Note - Ending Inventory of 2022 are based on the new design of BLPS and new survey frame for CLPS.\n",
      "    \n"
     ]
    }
   ],
   "source": [
    "print(\"Footnotes of the dataset:\")\n",
    "print(\"\"\"\n",
    "    .. Data not applicable\n",
    "    01 Jan 2023 - Preliminary\n",
    "    01 Jan 2022 - Revised for Cattle\n",
    "    01 Apr 2022 - Revised for Carabao\n",
    "    * - Zamboanga City included in Zamboanga del Sur.\n",
    "    ** - Davao City included in Davao del Sur.\n",
    "    Note - Ending Inventory of 2022 are based on the new design of BLPS and new survey frame for CLPS.\n",
    "    \"\"\"\n",
    "     )"
   ]
  },
  {
   "cell_type": "markdown",
   "id": "cf3f22ea",
   "metadata": {},
   "source": [
    "### 1.2 Data Cleaning"
   ]
  },
  {
   "cell_type": "markdown",
   "id": "598ecc71-bdbd-4f20-869e-2f56a1f092f0",
   "metadata": {},
   "source": [
    "#### ➡️ Handle missing values"
   ]
  },
  {
   "cell_type": "code",
   "execution_count": 467,
   "id": "cbd0ab62-b086-4b86-bfd2-237f789aa9a6",
   "metadata": {},
   "outputs": [],
   "source": [
    "# Extended replacement logic - to handle empty strings/whitespace. -k\n",
    "df_livestock.replace(['..', '', ' '], np.nan, inplace=True)"
   ]
  },
  {
   "cell_type": "code",
   "execution_count": 468,
   "id": "1acf00fb-8c01-4a46-99c1-e0337c6055dd",
   "metadata": {},
   "outputs": [],
   "source": [
    "df_livestock.dropna(axis=1, how='all', inplace=True)"
   ]
  },
  {
   "cell_type": "markdown",
   "id": "101d9847-f655-4f99-9c30-e7b3e67e31f4",
   "metadata": {},
   "source": [
    "#### ➡️ Handle duplicate rows"
   ]
  },
  {
   "cell_type": "code",
   "execution_count": 469,
   "id": "533d1afb-a15f-4cf9-b640-b57a27f0c301",
   "metadata": {},
   "outputs": [
    {
     "data": {
      "text/plain": [
       "0"
      ]
     },
     "execution_count": 469,
     "metadata": {},
     "output_type": "execute_result"
    }
   ],
   "source": [
    "df_livestock.duplicated().sum()"
   ]
  },
  {
   "cell_type": "markdown",
   "id": "bc72f2a0-7295-4de0-b44e-05479dbef6f4",
   "metadata": {},
   "source": [
    "#### ➡️ Handle invalid data"
   ]
  },
  {
   "cell_type": "code",
   "execution_count": 470,
   "id": "b34d8f7c-14e2-4f5f-bc1b-62f01d004fca",
   "metadata": {},
   "outputs": [],
   "source": [
    "df_livestock.replace({'*': 0, '**': 0}, inplace=True)"
   ]
  },
  {
   "cell_type": "markdown",
   "id": "ea11aacc-a588-4733-9d1e-b6dad69d0ece",
   "metadata": {},
   "source": [
    "#### ➡️ Convert Data Types"
   ]
  },
  {
   "cell_type": "code",
   "execution_count": 471,
   "id": "5e65fa2f-9ba4-44ac-94ec-0bc4292d69a3",
   "metadata": {},
   "outputs": [
    {
     "data": {
      "text/plain": [
       "Animal Type        category\n",
       "Farm Type          category\n",
       "Geolocation        category\n",
       "1994 01 January     float64\n",
       "1994 01 April       float64\n",
       "                     ...   \n",
       "2022 01 January     float64\n",
       "2022 01 April       float64\n",
       "2022 01 July        float64\n",
       "2022 01 October     float64\n",
       "2023 01 January     float64\n",
       "Length: 120, dtype: object"
      ]
     },
     "execution_count": 471,
     "metadata": {},
     "output_type": "execute_result"
    }
   ],
   "source": [
    "date_columns = df_livestock.columns[3:]\n",
    "df_livestock[date_columns] = df_livestock[date_columns].apply(pd.to_numeric, errors='coerce')\n",
    "\n",
    "df_livestock.dtypes"
   ]
  },
  {
   "cell_type": "code",
   "execution_count": 472,
   "id": "ffe0caf6-841f-42f4-82ba-f2f85c208857",
   "metadata": {},
   "outputs": [
    {
     "data": {
      "text/plain": [
       "Animal Type        category\n",
       "Farm Type          category\n",
       "Geolocation        category\n",
       "1994 01 January     float64\n",
       "1994 01 April       float64\n",
       "                     ...   \n",
       "2022 01 January     float64\n",
       "2022 01 April       float64\n",
       "2022 01 July        float64\n",
       "2022 01 October     float64\n",
       "2023 01 January     float64\n",
       "Length: 120, dtype: object"
      ]
     },
     "execution_count": 472,
     "metadata": {},
     "output_type": "execute_result"
    }
   ],
   "source": [
    "df_livestock.dtypes"
   ]
  },
  {
   "cell_type": "markdown",
   "id": "4066d130",
   "metadata": {},
   "source": [
    "#### ➡️ Standardizing Column Names"
   ]
  },
  {
   "cell_type": "code",
   "execution_count": 473,
   "id": "0a85d44b",
   "metadata": {},
   "outputs": [],
   "source": [
    "df_livestock.columns = df_livestock.columns.str.upper().str.replace(' ', '_')"
   ]
  },
  {
   "cell_type": "code",
   "execution_count": 474,
   "id": "2dbe7cfc-e9af-45d3-87bc-46f01c4ca2c3",
   "metadata": {},
   "outputs": [],
   "source": [
    "date_columns = df_livestock.columns[3:]"
   ]
  },
  {
   "cell_type": "code",
   "execution_count": 475,
   "id": "27749673",
   "metadata": {},
   "outputs": [
    {
     "data": {
      "text/html": [
       "<div>\n",
       "<style scoped>\n",
       "    .dataframe tbody tr th:only-of-type {\n",
       "        vertical-align: middle;\n",
       "    }\n",
       "\n",
       "    .dataframe tbody tr th {\n",
       "        vertical-align: top;\n",
       "    }\n",
       "\n",
       "    .dataframe thead th {\n",
       "        text-align: right;\n",
       "    }\n",
       "</style>\n",
       "<table border=\"1\" class=\"dataframe\">\n",
       "  <thead>\n",
       "    <tr style=\"text-align: right;\">\n",
       "      <th></th>\n",
       "      <th>ANIMAL_TYPE</th>\n",
       "      <th>FARM_TYPE</th>\n",
       "      <th>GEOLOCATION</th>\n",
       "      <th>1994_01_JANUARY</th>\n",
       "      <th>1994_01_APRIL</th>\n",
       "      <th>1994_01_JULY</th>\n",
       "      <th>1994_01_OCTOBER</th>\n",
       "      <th>1995_01_JANUARY</th>\n",
       "      <th>1995_01_APRIL</th>\n",
       "      <th>1995_01_JULY</th>\n",
       "      <th>...</th>\n",
       "      <th>2020_01_OCTOBER</th>\n",
       "      <th>2021_01_JANUARY</th>\n",
       "      <th>2021_01_APRIL</th>\n",
       "      <th>2021_01_JULY</th>\n",
       "      <th>2021_01_OCTOBER</th>\n",
       "      <th>2022_01_JANUARY</th>\n",
       "      <th>2022_01_APRIL</th>\n",
       "      <th>2022_01_JULY</th>\n",
       "      <th>2022_01_OCTOBER</th>\n",
       "      <th>2023_01_JANUARY</th>\n",
       "    </tr>\n",
       "  </thead>\n",
       "  <tbody>\n",
       "  </tbody>\n",
       "</table>\n",
       "<p>0 rows × 120 columns</p>\n",
       "</div>"
      ],
      "text/plain": [
       "Empty DataFrame\n",
       "Columns: [ANIMAL_TYPE, FARM_TYPE, GEOLOCATION, 1994_01_JANUARY, 1994_01_APRIL, 1994_01_JULY, 1994_01_OCTOBER, 1995_01_JANUARY, 1995_01_APRIL, 1995_01_JULY, 1995_01_OCTOBER, 1996_01_JANUARY, 1996_01_APRIL, 1996_01_JULY, 1996_01_OCTOBER, 1997_01_JANUARY, 1997_01_APRIL, 1997_01_JULY, 1997_01_OCTOBER, 1998_01_JANUARY, 1998_01_APRIL, 1998_01_JULY, 1998_01_OCTOBER, 1999_01_JANUARY, 1999_01_APRIL, 1999_01_JULY, 1999_01_OCTOBER, 2000_01_JANUARY, 2000_01_APRIL, 2000_01_JULY, 2000_01_OCTOBER, 2001_01_JANUARY, 2001_01_APRIL, 2001_01_JULY, 2001_01_OCTOBER, 2002_01_JANUARY, 2002_01_APRIL, 2002_01_JULY, 2002_01_OCTOBER, 2003_01_JANUARY, 2003_01_APRIL, 2003_01_JULY, 2003_01_OCTOBER, 2004_01_JANUARY, 2004_01_APRIL, 2004_01_JULY, 2004_01_OCTOBER, 2005_01_JANUARY, 2005_01_APRIL, 2005_01_JULY, 2005_01_OCTOBER, 2006_01_JANUARY, 2006_01_APRIL, 2006_01_JULY, 2006_01_OCTOBER, 2007_01_JANUARY, 2007_01_APRIL, 2007_01_JULY, 2007_01_OCTOBER, 2008_01_JANUARY, 2008_01_APRIL, 2008_01_JULY, 2008_01_OCTOBER, 2009_01_JANUARY, 2009_01_APRIL, 2009_01_JULY, 2009_01_OCTOBER, 2010_01_JANUARY, 2010_01_APRIL, 2010_01_JULY, 2010_01_OCTOBER, 2011_01_JANUARY, 2011_01_APRIL, 2011_01_JULY, 2011_01_OCTOBER, 2012_01_JANUARY, 2012_01_APRIL, 2012_01_JULY, 2012_01_OCTOBER, 2013_01_JANUARY, 2013_01_APRIL, 2013_01_JULY, 2013_01_OCTOBER, 2014_01_JANUARY, 2014_01_APRIL, 2014_01_JULY, 2014_01_OCTOBER, 2015_01_JANUARY, 2015_01_APRIL, 2015_01_JULY, 2015_01_OCTOBER, 2016_01_JANUARY, 2016_01_APRIL, 2016_01_JULY, 2016_01_OCTOBER, 2017_01_JANUARY, 2017_01_APRIL, 2017_01_JULY, 2017_01_OCTOBER, 2018_01_JANUARY, ...]\n",
       "Index: []\n",
       "\n",
       "[0 rows x 120 columns]"
      ]
     },
     "execution_count": 475,
     "metadata": {},
     "output_type": "execute_result"
    }
   ],
   "source": [
    "df_livestock.head(0) # 120 columns"
   ]
  },
  {
   "cell_type": "markdown",
   "id": "ca391651-306f-4a7e-82c9-4e7183f7cf26",
   "metadata": {},
   "source": [
    "#### ➡️ Handling Date Columns"
   ]
  },
  {
   "cell_type": "markdown",
   "id": "623d99cc-c77b-4c8b-baff-001bf1f4cff2",
   "metadata": {},
   "source": [
    "**Logic:**\n",
    "1. For each column in df_livestock.columns, check if it starts with '19' or '20'. If it does, add it to the date_columns list.\n",
    "2. For all columns in the date_columns list, attempt to convert the values in these columns to a numeric (int/float) data type. If there are non-numeric or missing values, replace with NaN."
   ]
  },
  {
   "cell_type": "code",
   "execution_count": 476,
   "id": "2be986b5-ff2f-4f70-9efd-36a3eb37a9a2",
   "metadata": {},
   "outputs": [],
   "source": [
    "date_columns = [col for col in df_livestock.columns if col.startswith(('19', '20'))]\n",
    "df_livestock[date_columns] = df_livestock[date_columns].apply(pd.to_numeric, errors='coerce')"
   ]
  },
  {
   "cell_type": "markdown",
   "id": "029bf050-aa1a-4941-8252-cae43caf393a",
   "metadata": {},
   "source": [
    "### 1.3 Feature Engineering"
   ]
  },
  {
   "cell_type": "markdown",
   "id": "e57dca36-00cd-453c-8093-c0aaec617d57",
   "metadata": {},
   "source": [
    "#### ➡️ Merge City Data into Province Data"
   ]
  },
  {
   "cell_type": "code",
   "execution_count": 477,
   "id": "4d191753-90dc-4f20-aa4e-036a43728814",
   "metadata": {},
   "outputs": [],
   "source": [
    "def merge_city_to_province(df, province_name, city_name):\n",
    "    if province_name in df['GEOLOCATION'].values and city_name in df['GEOLOCATION'].values:\n",
    "        row_city = df[df['GEOLOCATION'] == city_name]\n",
    "        df.loc[df['GEOLOCATION'] == province_name, df.columns[3:]] += row_city.iloc[0, 3:]\n",
    "        df = df[df['GEOLOCATION'] != city_name]\n",
    "    return df"
   ]
  },
  {
   "cell_type": "markdown",
   "id": "de4b6465-ac17-46f6-98ee-4e1052d07fab",
   "metadata": {},
   "source": [
    "#### ➡️ Merge City of Zamboanga with Zamboanga del Sur, and City of Davao with Davao del Sur"
   ]
  },
  {
   "cell_type": "code",
   "execution_count": 478,
   "id": "5a9bafc0-6812-481d-bd50-8f223aefce8a",
   "metadata": {},
   "outputs": [],
   "source": [
    "df_livestock = merge_city_to_province(df_livestock, '....Zamboanga del Sur', '......City of Zamboanga')\n",
    "df_livestock = merge_city_to_province(df_livestock, '....Davao del Sur', '......City of Davao')"
   ]
  },
  {
   "cell_type": "markdown",
   "id": "1ef56e03-bdba-4f8b-8080-d891e03476a6",
   "metadata": {},
   "source": [
    "#### ➡️ Split GEOLOCATION into REGION and PROVINCE"
   ]
  },
  {
   "cell_type": "code",
   "execution_count": 479,
   "id": "eec30b9f-5b31-44c9-b873-d7bfb4791a6a",
   "metadata": {},
   "outputs": [],
   "source": [
    "df_livestock['REGION'] = df_livestock['GEOLOCATION'].where(~df_livestock['GEOLOCATION'].str.startswith('....')).ffill()\n",
    "df_livestock['PROVINCE'] = df_livestock['GEOLOCATION'].where(df_livestock['GEOLOCATION'].str.startswith('....'))\n",
    "df_livestock['PROVINCE'] = df_livestock['PROVINCE'].str.replace('....', '', regex=False)\n",
    "df_livestock['REGION'] = df_livestock['REGION'].str.replace('..', '', regex=False)\n",
    "df_livestock.drop(columns=['GEOLOCATION'], inplace=True)"
   ]
  },
  {
   "cell_type": "code",
   "execution_count": 480,
   "id": "1409262d",
   "metadata": {},
   "outputs": [
    {
     "data": {
      "text/html": [
       "<div>\n",
       "<style scoped>\n",
       "    .dataframe tbody tr th:only-of-type {\n",
       "        vertical-align: middle;\n",
       "    }\n",
       "\n",
       "    .dataframe tbody tr th {\n",
       "        vertical-align: top;\n",
       "    }\n",
       "\n",
       "    .dataframe thead th {\n",
       "        text-align: right;\n",
       "    }\n",
       "</style>\n",
       "<table border=\"1\" class=\"dataframe\">\n",
       "  <thead>\n",
       "    <tr style=\"text-align: right;\">\n",
       "      <th></th>\n",
       "      <th>ANIMAL_TYPE</th>\n",
       "      <th>FARM_TYPE</th>\n",
       "      <th>1994_01_JANUARY</th>\n",
       "      <th>1994_01_APRIL</th>\n",
       "      <th>1994_01_JULY</th>\n",
       "      <th>1994_01_OCTOBER</th>\n",
       "      <th>1995_01_JANUARY</th>\n",
       "      <th>1995_01_APRIL</th>\n",
       "      <th>1995_01_JULY</th>\n",
       "      <th>1995_01_OCTOBER</th>\n",
       "      <th>...</th>\n",
       "      <th>2021_01_APRIL</th>\n",
       "      <th>2021_01_JULY</th>\n",
       "      <th>2021_01_OCTOBER</th>\n",
       "      <th>2022_01_JANUARY</th>\n",
       "      <th>2022_01_APRIL</th>\n",
       "      <th>2022_01_JULY</th>\n",
       "      <th>2022_01_OCTOBER</th>\n",
       "      <th>2023_01_JANUARY</th>\n",
       "      <th>REGION</th>\n",
       "      <th>PROVINCE</th>\n",
       "    </tr>\n",
       "  </thead>\n",
       "  <tbody>\n",
       "  </tbody>\n",
       "</table>\n",
       "<p>0 rows × 121 columns</p>\n",
       "</div>"
      ],
      "text/plain": [
       "Empty DataFrame\n",
       "Columns: [ANIMAL_TYPE, FARM_TYPE, 1994_01_JANUARY, 1994_01_APRIL, 1994_01_JULY, 1994_01_OCTOBER, 1995_01_JANUARY, 1995_01_APRIL, 1995_01_JULY, 1995_01_OCTOBER, 1996_01_JANUARY, 1996_01_APRIL, 1996_01_JULY, 1996_01_OCTOBER, 1997_01_JANUARY, 1997_01_APRIL, 1997_01_JULY, 1997_01_OCTOBER, 1998_01_JANUARY, 1998_01_APRIL, 1998_01_JULY, 1998_01_OCTOBER, 1999_01_JANUARY, 1999_01_APRIL, 1999_01_JULY, 1999_01_OCTOBER, 2000_01_JANUARY, 2000_01_APRIL, 2000_01_JULY, 2000_01_OCTOBER, 2001_01_JANUARY, 2001_01_APRIL, 2001_01_JULY, 2001_01_OCTOBER, 2002_01_JANUARY, 2002_01_APRIL, 2002_01_JULY, 2002_01_OCTOBER, 2003_01_JANUARY, 2003_01_APRIL, 2003_01_JULY, 2003_01_OCTOBER, 2004_01_JANUARY, 2004_01_APRIL, 2004_01_JULY, 2004_01_OCTOBER, 2005_01_JANUARY, 2005_01_APRIL, 2005_01_JULY, 2005_01_OCTOBER, 2006_01_JANUARY, 2006_01_APRIL, 2006_01_JULY, 2006_01_OCTOBER, 2007_01_JANUARY, 2007_01_APRIL, 2007_01_JULY, 2007_01_OCTOBER, 2008_01_JANUARY, 2008_01_APRIL, 2008_01_JULY, 2008_01_OCTOBER, 2009_01_JANUARY, 2009_01_APRIL, 2009_01_JULY, 2009_01_OCTOBER, 2010_01_JANUARY, 2010_01_APRIL, 2010_01_JULY, 2010_01_OCTOBER, 2011_01_JANUARY, 2011_01_APRIL, 2011_01_JULY, 2011_01_OCTOBER, 2012_01_JANUARY, 2012_01_APRIL, 2012_01_JULY, 2012_01_OCTOBER, 2013_01_JANUARY, 2013_01_APRIL, 2013_01_JULY, 2013_01_OCTOBER, 2014_01_JANUARY, 2014_01_APRIL, 2014_01_JULY, 2014_01_OCTOBER, 2015_01_JANUARY, 2015_01_APRIL, 2015_01_JULY, 2015_01_OCTOBER, 2016_01_JANUARY, 2016_01_APRIL, 2016_01_JULY, 2016_01_OCTOBER, 2017_01_JANUARY, 2017_01_APRIL, 2017_01_JULY, 2017_01_OCTOBER, 2018_01_JANUARY, 2018_01_APRIL, ...]\n",
       "Index: []\n",
       "\n",
       "[0 rows x 121 columns]"
      ]
     },
     "execution_count": 480,
     "metadata": {},
     "output_type": "execute_result"
    }
   ],
   "source": [
    "df_livestock.head(0) # 121 columns"
   ]
  },
  {
   "cell_type": "markdown",
   "id": "b653560d",
   "metadata": {},
   "source": [
    "#### ➡️ Fixing Data Names"
   ]
  },
  {
   "cell_type": "code",
   "execution_count": 481,
   "id": "d92f70d8",
   "metadata": {},
   "outputs": [
    {
     "data": {
      "text/plain": [
       "array(['PHILIPPINES', 'National Capital Region (NCR)',\n",
       "       'Cordillera Administrative Region (CAR)',\n",
       "       'Region I (Ilocos Region)', 'Region II (Cagayan Valley)',\n",
       "       'Region III (Central Luzon)', 'Region IVA (CALABARZON)',\n",
       "       'MIMAROPA Region', 'Region V (Bicol Region)',\n",
       "       'Region VI (Western Visayas)', 'Region VII (Central Visayas)',\n",
       "       'Region VIII (Eastern Visayas)', 'Region IX (Zamboanga Peninsula)',\n",
       "       'Region X (Northern Mindanao)', 'Region XI (Davao Region)',\n",
       "       'Region XII (SOCCSKSARGEN)', 'Region XIII (Caraga)',\n",
       "       'Bangsamoro Autonomous Region in Muslim Mindanao (BARMM)'],\n",
       "      dtype=object)"
      ]
     },
     "execution_count": 481,
     "metadata": {},
     "output_type": "execute_result"
    }
   ],
   "source": [
    "df_livestock['REGION'].unique() # initial REGION names"
   ]
  },
  {
   "cell_type": "code",
   "execution_count": 482,
   "id": "ac3d75c2",
   "metadata": {},
   "outputs": [
    {
     "data": {
      "text/plain": [
       "array([nan, 'Abra', 'Apayao', 'Benguet', 'Ifugao', 'Kalinga',\n",
       "       'Mountain Province', 'Ilocos Norte', 'Ilocos Sur', 'La Union',\n",
       "       'Pangasinan', 'Batanes', 'Cagayan', 'Isabela', 'Nueva Vizcaya',\n",
       "       'Quirino', 'Aurora', 'Bataan', 'Bulacan', 'Nueva Ecija',\n",
       "       'Pampanga', 'Tarlac', 'Zambales', 'Batangas', 'Cavite', 'Laguna',\n",
       "       'Quezon', 'Rizal', 'Marinduque', 'Occidental Mindoro',\n",
       "       'Oriental Mindoro', 'Palawan', 'Romblon', 'Albay',\n",
       "       'Camarines Norte', 'Camarines Sur', 'Catanduanes', 'Masbate',\n",
       "       'Sorsogon', 'Aklan', 'Antique', 'Capiz', 'Guimaras', 'Iloilo',\n",
       "       'Negros Occidental', 'Bohol', 'Cebu', 'Negros Oriental',\n",
       "       'Siquijor', 'Biliran', 'Eastern Samar', 'Leyte', 'Northern Samar',\n",
       "       'Samar', 'Southern Leyte', 'Zamboanga del Norte',\n",
       "       'Zamboanga del Sur', 'Zamboanga Sibugay', 'Bukidnon', 'Camiguin',\n",
       "       'Lanao del Norte', 'Misamis Occidental', 'Misamis Oriental',\n",
       "       'Davao de Oro (Compostela Valley)', 'Davao del Norte',\n",
       "       'Davao del Sur', 'Davao Occidental', 'Davao Oriental',\n",
       "       'Cotabato (North Cotabato)', 'Sarangani', 'South Cotabato',\n",
       "       'Sultan Kudarat', 'Agusan del Norte', 'Agusan del Sur',\n",
       "       'Dinagat Islands', 'Surigao del Norte', 'Surigao del Sur',\n",
       "       'Basilan', 'Lanao del Sur', 'Maguindanao', 'Sulu', 'Tawi-tawi'],\n",
       "      dtype=object)"
      ]
     },
     "execution_count": 482,
     "metadata": {},
     "output_type": "execute_result"
    }
   ],
   "source": [
    "df_livestock['PROVINCE'].unique() # initial PROVINCE names"
   ]
  },
  {
   "cell_type": "code",
   "execution_count": 483,
   "id": "e8558eb9",
   "metadata": {},
   "outputs": [],
   "source": [
    "region_newName = {\n",
    "    'PHILIPPINES': 'Regions_Total',\n",
    "    'National Capital Region (NCR)': 'NCR',\n",
    "    'Cordillera Administrative Region (CAR)': 'CAR',\n",
    "    'Region I (Ilocos Region)': 'Region_I',\n",
    "    'Region II (Cagayan Valley)': 'Region_II',\n",
    "    'Region III (Central Luzon)': 'Region_III',\n",
    "    'Region IVA (CALABARZON)': 'Region_IV',\n",
    "    'MIMAROPA Region': 'MIMAROPA',\n",
    "    'Region V (Bicol Region)': 'Region_V',\n",
    "    'Region VI (Western Visayas)': 'Region_VI',\n",
    "    'Region VII (Central Visayas)': 'Region_VII',\n",
    "    'Region VIII (Eastern Visayas)': 'Region_VIII',\n",
    "    'Region IX (Zamboanga Peninsula)': 'Region_IX',\n",
    "    'Region X (Northern Mindanao)': 'Region_X',\n",
    "    'Region XI (Davao Region)': 'Region_XI',\n",
    "    'Region XII (SOCCSKSARGEN)': 'Region_XII',\n",
    "    'Region XIII (Caraga)': 'Region_XIII',\n",
    "    'Bangsamoro Autonomous Region in Muslim Mindanao (BARMM)': 'BARMM'\n",
    "}"
   ]
  },
  {
   "cell_type": "code",
   "execution_count": 484,
   "id": "3ffeae39-a6be-48a6-bc0b-b6aab1992014",
   "metadata": {},
   "outputs": [],
   "source": [
    "df_livestock['REGION'] = df_livestock['REGION'].replace(region_newName)"
   ]
  },
  {
   "cell_type": "code",
   "execution_count": 485,
   "id": "80ab2066-1b18-47b6-944c-970b83b28909",
   "metadata": {},
   "outputs": [],
   "source": [
    "df_livestock['PROVINCE'] = df_livestock['PROVINCE'].fillna('N/A')"
   ]
  },
  {
   "cell_type": "code",
   "execution_count": 486,
   "id": "0d46ef9d",
   "metadata": {},
   "outputs": [
    {
     "data": {
      "text/plain": [
       "array(['Regions_Total', 'NCR', 'CAR', 'Region_I', 'Region_II',\n",
       "       'Region_III', 'Region_IV', 'MIMAROPA', 'Region_V', 'Region_VI',\n",
       "       'Region_VII', 'Region_VIII', 'Region_IX', 'Region_X', 'Region_XI',\n",
       "       'Region_XII', 'Region_XIII', 'BARMM'], dtype=object)"
      ]
     },
     "execution_count": 486,
     "metadata": {},
     "output_type": "execute_result"
    }
   ],
   "source": [
    "df_livestock['REGION'].unique() # new REGION names"
   ]
  },
  {
   "cell_type": "code",
   "execution_count": 487,
   "id": "2a4bc2e6",
   "metadata": {},
   "outputs": [
    {
     "data": {
      "text/plain": [
       "array(['N/A', 'Abra', 'Apayao', 'Benguet', 'Ifugao', 'Kalinga',\n",
       "       'Mountain Province', 'Ilocos Norte', 'Ilocos Sur', 'La Union',\n",
       "       'Pangasinan', 'Batanes', 'Cagayan', 'Isabela', 'Nueva Vizcaya',\n",
       "       'Quirino', 'Aurora', 'Bataan', 'Bulacan', 'Nueva Ecija',\n",
       "       'Pampanga', 'Tarlac', 'Zambales', 'Batangas', 'Cavite', 'Laguna',\n",
       "       'Quezon', 'Rizal', 'Marinduque', 'Occidental Mindoro',\n",
       "       'Oriental Mindoro', 'Palawan', 'Romblon', 'Albay',\n",
       "       'Camarines Norte', 'Camarines Sur', 'Catanduanes', 'Masbate',\n",
       "       'Sorsogon', 'Aklan', 'Antique', 'Capiz', 'Guimaras', 'Iloilo',\n",
       "       'Negros Occidental', 'Bohol', 'Cebu', 'Negros Oriental',\n",
       "       'Siquijor', 'Biliran', 'Eastern Samar', 'Leyte', 'Northern Samar',\n",
       "       'Samar', 'Southern Leyte', 'Zamboanga del Norte',\n",
       "       'Zamboanga del Sur', 'Zamboanga Sibugay', 'Bukidnon', 'Camiguin',\n",
       "       'Lanao del Norte', 'Misamis Occidental', 'Misamis Oriental',\n",
       "       'Davao de Oro (Compostela Valley)', 'Davao del Norte',\n",
       "       'Davao del Sur', 'Davao Occidental', 'Davao Oriental',\n",
       "       'Cotabato (North Cotabato)', 'Sarangani', 'South Cotabato',\n",
       "       'Sultan Kudarat', 'Agusan del Norte', 'Agusan del Sur',\n",
       "       'Dinagat Islands', 'Surigao del Norte', 'Surigao del Sur',\n",
       "       'Basilan', 'Lanao del Sur', 'Maguindanao', 'Sulu', 'Tawi-tawi'],\n",
       "      dtype=object)"
      ]
     },
     "execution_count": 487,
     "metadata": {},
     "output_type": "execute_result"
    }
   ],
   "source": [
    "df_livestock['PROVINCE'].unique() # new PROVINCE names"
   ]
  },
  {
   "cell_type": "markdown",
   "id": "45c248da-5c29-4b7f-b0ea-500f22fb7928",
   "metadata": {},
   "source": [
    "#### ➡️ Drop 'Regions_Total' Column in REGION"
   ]
  },
  {
   "cell_type": "markdown",
   "id": "079d5f52-8ca8-4597-87fe-97980c902d57",
   "metadata": {},
   "source": [
    "Including `Regions_Total` would distort the comparisons — since it's not a specific region but rather an aggregate (sum).\n",
    "> `Regions_Total` was created in region_newName dictionary"
   ]
  },
  {
   "cell_type": "code",
   "execution_count": 488,
   "id": "fcf9e0d0-5a09-4a0b-bb3e-944591ac80af",
   "metadata": {},
   "outputs": [],
   "source": [
    "df_livestock = df_livestock[(df_livestock['REGION'] != 'Regions_Total')]"
   ]
  },
  {
   "cell_type": "code",
   "execution_count": 489,
   "id": "44768159",
   "metadata": {},
   "outputs": [],
   "source": [
    "df_livestock = df_livestock[(df_livestock['REGION'] == 'NCR') | (df_livestock['PROVINCE'] != 'N/A')]"
   ]
  },
  {
   "cell_type": "markdown",
   "id": "a91cbb8f",
   "metadata": {},
   "source": [
    "#### ➡️ Filling Up Missing Values"
   ]
  },
  {
   "cell_type": "markdown",
   "id": "abde2377-c363-4eeb-b5b4-7b70e9cb7418",
   "metadata": {},
   "source": [
    "Rows where PROVINCE is 'N/A' generally correspond to regions like NCR, which don’t have provinces under them. Forward-filling such rows would carry values from unrelated provinces, leading to incorrect data for regions like NCR."
   ]
  },
  {
   "cell_type": "code",
   "execution_count": 490,
   "id": "366f4bd5",
   "metadata": {},
   "outputs": [],
   "source": [
    "# 1. Forward Fill for all date columns\n",
    "df_livestock[date_columns] = df_livestock[date_columns].ffill(axis=1)\n",
    "\n",
    "# 2. Replace remaining NaN with -1, indicating non-existent livestock data\n",
    "df_livestock[date_columns] = df_livestock[date_columns].fillna(-1)"
   ]
  },
  {
   "cell_type": "markdown",
   "id": "1f0842df-d846-488c-8445-af835d8bae2c",
   "metadata": {},
   "source": [
    "Using forward-fill followed by replacing remaining NaN with -1 is reasonable.\n",
    "> **Forward-fill** manages continuous periods where livestock counts are consistent.\\\n",
    "> **-1 for remaining NaN** indicates livestock that might not have existed, which can be useful for analysis or visualization. For example, use -1 to visually indicate missing data differently from valid zero counts."
   ]
  },
  {
   "cell_type": "code",
   "execution_count": 491,
   "id": "25033f8b",
   "metadata": {},
   "outputs": [
    {
     "data": {
      "text/html": [
       "<div>\n",
       "<style scoped>\n",
       "    .dataframe tbody tr th:only-of-type {\n",
       "        vertical-align: middle;\n",
       "    }\n",
       "\n",
       "    .dataframe tbody tr th {\n",
       "        vertical-align: top;\n",
       "    }\n",
       "\n",
       "    .dataframe thead th {\n",
       "        text-align: right;\n",
       "    }\n",
       "</style>\n",
       "<table border=\"1\" class=\"dataframe\">\n",
       "  <thead>\n",
       "    <tr style=\"text-align: right;\">\n",
       "      <th></th>\n",
       "      <th>ANIMAL_TYPE</th>\n",
       "      <th>FARM_TYPE</th>\n",
       "      <th>1994_01_JANUARY</th>\n",
       "      <th>1994_01_APRIL</th>\n",
       "      <th>1994_01_JULY</th>\n",
       "      <th>1994_01_OCTOBER</th>\n",
       "      <th>1995_01_JANUARY</th>\n",
       "      <th>1995_01_APRIL</th>\n",
       "      <th>1995_01_JULY</th>\n",
       "      <th>1995_01_OCTOBER</th>\n",
       "      <th>...</th>\n",
       "      <th>2021_01_APRIL</th>\n",
       "      <th>2021_01_JULY</th>\n",
       "      <th>2021_01_OCTOBER</th>\n",
       "      <th>2022_01_JANUARY</th>\n",
       "      <th>2022_01_APRIL</th>\n",
       "      <th>2022_01_JULY</th>\n",
       "      <th>2022_01_OCTOBER</th>\n",
       "      <th>2023_01_JANUARY</th>\n",
       "      <th>REGION</th>\n",
       "      <th>PROVINCE</th>\n",
       "    </tr>\n",
       "  </thead>\n",
       "  <tbody>\n",
       "    <tr>\n",
       "      <th>1</th>\n",
       "      <td>Carabao</td>\n",
       "      <td>Backyard</td>\n",
       "      <td>-1.0</td>\n",
       "      <td>-1.0</td>\n",
       "      <td>-1.0</td>\n",
       "      <td>-1.0</td>\n",
       "      <td>-1.0</td>\n",
       "      <td>-1.0</td>\n",
       "      <td>-1.0</td>\n",
       "      <td>-1.0</td>\n",
       "      <td>...</td>\n",
       "      <td>-1.0</td>\n",
       "      <td>-1.0</td>\n",
       "      <td>-1.0</td>\n",
       "      <td>-1.0</td>\n",
       "      <td>-1.0</td>\n",
       "      <td>-1.0</td>\n",
       "      <td>-1.0</td>\n",
       "      <td>-1.0</td>\n",
       "      <td>NCR</td>\n",
       "      <td>N/A</td>\n",
       "    </tr>\n",
       "    <tr>\n",
       "      <th>3</th>\n",
       "      <td>Carabao</td>\n",
       "      <td>Backyard</td>\n",
       "      <td>24784.0</td>\n",
       "      <td>24784.0</td>\n",
       "      <td>25952.0</td>\n",
       "      <td>25952.0</td>\n",
       "      <td>26377.0</td>\n",
       "      <td>26377.0</td>\n",
       "      <td>35461.0</td>\n",
       "      <td>35461.0</td>\n",
       "      <td>...</td>\n",
       "      <td>15701.0</td>\n",
       "      <td>16408.0</td>\n",
       "      <td>16408.0</td>\n",
       "      <td>17475.0</td>\n",
       "      <td>18075.0</td>\n",
       "      <td>17996.0</td>\n",
       "      <td>18591.0</td>\n",
       "      <td>17800.0</td>\n",
       "      <td>CAR</td>\n",
       "      <td>Abra</td>\n",
       "    </tr>\n",
       "    <tr>\n",
       "      <th>4</th>\n",
       "      <td>Carabao</td>\n",
       "      <td>Backyard</td>\n",
       "      <td>-1.0</td>\n",
       "      <td>-1.0</td>\n",
       "      <td>-1.0</td>\n",
       "      <td>-1.0</td>\n",
       "      <td>-1.0</td>\n",
       "      <td>-1.0</td>\n",
       "      <td>-1.0</td>\n",
       "      <td>-1.0</td>\n",
       "      <td>...</td>\n",
       "      <td>18290.0</td>\n",
       "      <td>17309.0</td>\n",
       "      <td>17309.0</td>\n",
       "      <td>17856.0</td>\n",
       "      <td>17240.0</td>\n",
       "      <td>18175.0</td>\n",
       "      <td>18100.0</td>\n",
       "      <td>18045.0</td>\n",
       "      <td>CAR</td>\n",
       "      <td>Apayao</td>\n",
       "    </tr>\n",
       "    <tr>\n",
       "      <th>5</th>\n",
       "      <td>Carabao</td>\n",
       "      <td>Backyard</td>\n",
       "      <td>7503.0</td>\n",
       "      <td>7503.0</td>\n",
       "      <td>12105.0</td>\n",
       "      <td>12105.0</td>\n",
       "      <td>15333.0</td>\n",
       "      <td>15333.0</td>\n",
       "      <td>22250.0</td>\n",
       "      <td>22250.0</td>\n",
       "      <td>...</td>\n",
       "      <td>11433.0</td>\n",
       "      <td>11606.0</td>\n",
       "      <td>11606.0</td>\n",
       "      <td>11427.0</td>\n",
       "      <td>11433.0</td>\n",
       "      <td>11445.0</td>\n",
       "      <td>11713.0</td>\n",
       "      <td>11546.0</td>\n",
       "      <td>CAR</td>\n",
       "      <td>Benguet</td>\n",
       "    </tr>\n",
       "    <tr>\n",
       "      <th>6</th>\n",
       "      <td>Carabao</td>\n",
       "      <td>Backyard</td>\n",
       "      <td>16626.0</td>\n",
       "      <td>16626.0</td>\n",
       "      <td>17122.0</td>\n",
       "      <td>17122.0</td>\n",
       "      <td>16802.0</td>\n",
       "      <td>16802.0</td>\n",
       "      <td>17478.0</td>\n",
       "      <td>17478.0</td>\n",
       "      <td>...</td>\n",
       "      <td>7725.0</td>\n",
       "      <td>7649.0</td>\n",
       "      <td>7649.0</td>\n",
       "      <td>5470.0</td>\n",
       "      <td>5270.0</td>\n",
       "      <td>5276.0</td>\n",
       "      <td>5280.0</td>\n",
       "      <td>5861.0</td>\n",
       "      <td>CAR</td>\n",
       "      <td>Ifugao</td>\n",
       "    </tr>\n",
       "  </tbody>\n",
       "</table>\n",
       "<p>5 rows × 121 columns</p>\n",
       "</div>"
      ],
      "text/plain": [
       "  ANIMAL_TYPE FARM_TYPE  1994_01_JANUARY  1994_01_APRIL  1994_01_JULY  \\\n",
       "1     Carabao  Backyard             -1.0           -1.0          -1.0   \n",
       "3     Carabao  Backyard          24784.0        24784.0       25952.0   \n",
       "4     Carabao  Backyard             -1.0           -1.0          -1.0   \n",
       "5     Carabao  Backyard           7503.0         7503.0       12105.0   \n",
       "6     Carabao  Backyard          16626.0        16626.0       17122.0   \n",
       "\n",
       "   1994_01_OCTOBER  1995_01_JANUARY  1995_01_APRIL  1995_01_JULY  \\\n",
       "1             -1.0             -1.0           -1.0          -1.0   \n",
       "3          25952.0          26377.0        26377.0       35461.0   \n",
       "4             -1.0             -1.0           -1.0          -1.0   \n",
       "5          12105.0          15333.0        15333.0       22250.0   \n",
       "6          17122.0          16802.0        16802.0       17478.0   \n",
       "\n",
       "   1995_01_OCTOBER  ...  2021_01_APRIL  2021_01_JULY  2021_01_OCTOBER  \\\n",
       "1             -1.0  ...           -1.0          -1.0             -1.0   \n",
       "3          35461.0  ...        15701.0       16408.0          16408.0   \n",
       "4             -1.0  ...        18290.0       17309.0          17309.0   \n",
       "5          22250.0  ...        11433.0       11606.0          11606.0   \n",
       "6          17478.0  ...         7725.0        7649.0           7649.0   \n",
       "\n",
       "   2022_01_JANUARY  2022_01_APRIL  2022_01_JULY  2022_01_OCTOBER  \\\n",
       "1             -1.0           -1.0          -1.0             -1.0   \n",
       "3          17475.0        18075.0       17996.0          18591.0   \n",
       "4          17856.0        17240.0       18175.0          18100.0   \n",
       "5          11427.0        11433.0       11445.0          11713.0   \n",
       "6           5470.0         5270.0        5276.0           5280.0   \n",
       "\n",
       "   2023_01_JANUARY  REGION  PROVINCE  \n",
       "1             -1.0     NCR       N/A  \n",
       "3          17800.0     CAR      Abra  \n",
       "4          18045.0     CAR    Apayao  \n",
       "5          11546.0     CAR   Benguet  \n",
       "6           5861.0     CAR    Ifugao  \n",
       "\n",
       "[5 rows x 121 columns]"
      ]
     },
     "execution_count": 491,
     "metadata": {},
     "output_type": "execute_result"
    }
   ],
   "source": [
    "df_livestock.head(5)"
   ]
  },
  {
   "cell_type": "markdown",
   "id": "2cb70156-7f5f-4cee-b901-18fb5e82147e",
   "metadata": {},
   "source": [
    "Ideally, the -1 values should only appear before the first valid livestock count in each series of data, not between two valid values."
   ]
  },
  {
   "cell_type": "code",
   "execution_count": 492,
   "id": "617486a0-f210-44b8-ab9e-af6bb389530e",
   "metadata": {},
   "outputs": [
    {
     "data": {
      "text/html": [
       "<div>\n",
       "<style scoped>\n",
       "    .dataframe tbody tr th:only-of-type {\n",
       "        vertical-align: middle;\n",
       "    }\n",
       "\n",
       "    .dataframe tbody tr th {\n",
       "        vertical-align: top;\n",
       "    }\n",
       "\n",
       "    .dataframe thead th {\n",
       "        text-align: right;\n",
       "    }\n",
       "</style>\n",
       "<table border=\"1\" class=\"dataframe\">\n",
       "  <thead>\n",
       "    <tr style=\"text-align: right;\">\n",
       "      <th></th>\n",
       "      <th>ANIMAL_TYPE</th>\n",
       "      <th>FARM_TYPE</th>\n",
       "      <th>1994_01_JANUARY</th>\n",
       "      <th>1994_01_APRIL</th>\n",
       "      <th>1994_01_JULY</th>\n",
       "      <th>1994_01_OCTOBER</th>\n",
       "      <th>1995_01_JANUARY</th>\n",
       "      <th>1995_01_APRIL</th>\n",
       "      <th>1995_01_JULY</th>\n",
       "      <th>1995_01_OCTOBER</th>\n",
       "      <th>...</th>\n",
       "      <th>2021_01_APRIL</th>\n",
       "      <th>2021_01_JULY</th>\n",
       "      <th>2021_01_OCTOBER</th>\n",
       "      <th>2022_01_JANUARY</th>\n",
       "      <th>2022_01_APRIL</th>\n",
       "      <th>2022_01_JULY</th>\n",
       "      <th>2022_01_OCTOBER</th>\n",
       "      <th>2023_01_JANUARY</th>\n",
       "      <th>REGION</th>\n",
       "      <th>PROVINCE</th>\n",
       "    </tr>\n",
       "  </thead>\n",
       "  <tbody>\n",
       "  </tbody>\n",
       "</table>\n",
       "<p>0 rows × 121 columns</p>\n",
       "</div>"
      ],
      "text/plain": [
       "Empty DataFrame\n",
       "Columns: [ANIMAL_TYPE, FARM_TYPE, 1994_01_JANUARY, 1994_01_APRIL, 1994_01_JULY, 1994_01_OCTOBER, 1995_01_JANUARY, 1995_01_APRIL, 1995_01_JULY, 1995_01_OCTOBER, 1996_01_JANUARY, 1996_01_APRIL, 1996_01_JULY, 1996_01_OCTOBER, 1997_01_JANUARY, 1997_01_APRIL, 1997_01_JULY, 1997_01_OCTOBER, 1998_01_JANUARY, 1998_01_APRIL, 1998_01_JULY, 1998_01_OCTOBER, 1999_01_JANUARY, 1999_01_APRIL, 1999_01_JULY, 1999_01_OCTOBER, 2000_01_JANUARY, 2000_01_APRIL, 2000_01_JULY, 2000_01_OCTOBER, 2001_01_JANUARY, 2001_01_APRIL, 2001_01_JULY, 2001_01_OCTOBER, 2002_01_JANUARY, 2002_01_APRIL, 2002_01_JULY, 2002_01_OCTOBER, 2003_01_JANUARY, 2003_01_APRIL, 2003_01_JULY, 2003_01_OCTOBER, 2004_01_JANUARY, 2004_01_APRIL, 2004_01_JULY, 2004_01_OCTOBER, 2005_01_JANUARY, 2005_01_APRIL, 2005_01_JULY, 2005_01_OCTOBER, 2006_01_JANUARY, 2006_01_APRIL, 2006_01_JULY, 2006_01_OCTOBER, 2007_01_JANUARY, 2007_01_APRIL, 2007_01_JULY, 2007_01_OCTOBER, 2008_01_JANUARY, 2008_01_APRIL, 2008_01_JULY, 2008_01_OCTOBER, 2009_01_JANUARY, 2009_01_APRIL, 2009_01_JULY, 2009_01_OCTOBER, 2010_01_JANUARY, 2010_01_APRIL, 2010_01_JULY, 2010_01_OCTOBER, 2011_01_JANUARY, 2011_01_APRIL, 2011_01_JULY, 2011_01_OCTOBER, 2012_01_JANUARY, 2012_01_APRIL, 2012_01_JULY, 2012_01_OCTOBER, 2013_01_JANUARY, 2013_01_APRIL, 2013_01_JULY, 2013_01_OCTOBER, 2014_01_JANUARY, 2014_01_APRIL, 2014_01_JULY, 2014_01_OCTOBER, 2015_01_JANUARY, 2015_01_APRIL, 2015_01_JULY, 2015_01_OCTOBER, 2016_01_JANUARY, 2016_01_APRIL, 2016_01_JULY, 2016_01_OCTOBER, 2017_01_JANUARY, 2017_01_APRIL, 2017_01_JULY, 2017_01_OCTOBER, 2018_01_JANUARY, 2018_01_APRIL, ...]\n",
       "Index: []\n",
       "\n",
       "[0 rows x 121 columns]"
      ]
     },
     "execution_count": 492,
     "metadata": {},
     "output_type": "execute_result"
    }
   ],
   "source": [
    "negative_inbet = df_livestock[\n",
    "    (df_livestock['1994_01_JANUARY'] > 0) & \n",
    "    (df_livestock[date_columns[1:]].isin([-1]).any(axis=1))\n",
    "]\n",
    "\n",
    "negative_inbet.head(3) # 94 total|"
   ]
  },
  {
   "cell_type": "markdown",
   "id": "b03a0e64-c813-48de-91a7-b8b92af8a9aa",
   "metadata": {},
   "source": [
    "However, this is not the case, given the row shown above. There are instances where in there's **-1** between two valid values.\n",
    "> This _could_ be a problem, since having **-1** values after the first valid livestock could affect trend analysis — can skew results."
   ]
  },
  {
   "cell_type": "markdown",
   "id": "8e5e94a3-5f9d-4602-bc90-40fa2d660c37",
   "metadata": {},
   "source": [
    "Some possible solutions:\n",
    "> Leave -1 Values if the group will like to preserve this absence of data in between periods.\\\n",
    "> Forward-fill again for these specific rows to fill in the gaps after the valid first value."
   ]
  },
  {
   "cell_type": "markdown",
   "id": "783592d4-f5d9-427e-b88f-ec5874df2728",
   "metadata": {},
   "source": [
    "If the group decides to forward-fill again, use the following code snippet. Otherwise, please discard."
   ]
  },
  {
   "cell_type": "code",
   "execution_count": 493,
   "id": "1138caa5-8b92-4af5-a7ba-a38ea475b42b",
   "metadata": {},
   "outputs": [],
   "source": [
    "#df_livestock[date_columns] = negative_inbetween[date_columns].ffill(axis=1)"
   ]
  },
  {
   "cell_type": "markdown",
   "id": "ea2020b5-964e-4a3b-8f5c-ccfce8a6aeaa",
   "metadata": {},
   "source": [
    "#### ➡️ Region with N/A as Province (!)"
   ]
  },
  {
   "cell_type": "markdown",
   "id": "ac809295-6e8f-4dc6-98a0-7f00f9eb122c",
   "metadata": {},
   "source": [
    "NCR is the only region without a province, therefore we can leave province for NCR as N/A.\n",
    "> It is also an option to replace N/A with NCR for clarity — the which the cell below does."
   ]
  },
  {
   "cell_type": "code",
   "execution_count": 494,
   "id": "729dbc8c-e30c-478e-9fdd-8a9ce2bef801",
   "metadata": {},
   "outputs": [],
   "source": [
    "df_livestock.loc[(df_livestock['REGION'] == 'NCR') & (df_livestock['PROVINCE'] == 'N/A'), 'PROVINCE'] = 'NCR'"
   ]
  },
  {
   "cell_type": "markdown",
   "id": "b0d06968-0528-424d-b3f9-327d1c3e42d8",
   "metadata": {},
   "source": [
    "**Concern:** There are regions that have N/A as their province. I'm not yet sure why."
   ]
  },
  {
   "cell_type": "markdown",
   "id": "b9544eea",
   "metadata": {},
   "source": [
    "#### ➡️ Melt Date Columns into One Single Column With Their Corresponding Values"
   ]
  },
  {
   "cell_type": "code",
   "execution_count": 495,
   "id": "7f12e5c9",
   "metadata": {},
   "outputs": [],
   "source": [
    "# Reshape data (melt) to long format with QUARTER and LIVESTOCK_COUNT\n",
    "melted_livestock = pd.melt(df_livestock, id_vars=['ANIMAL_TYPE', 'FARM_TYPE', 'PROVINCE', 'REGION'], \n",
    "                           value_vars=date_columns, var_name='QUARTER', value_name='LIVESTOCK_COUNT')"
   ]
  },
  {
   "cell_type": "code",
   "execution_count": 496,
   "id": "bcb62ef0-7edb-4573-959a-02fb00d34149",
   "metadata": {},
   "outputs": [
    {
     "data": {
      "text/html": [
       "<div>\n",
       "<style scoped>\n",
       "    .dataframe tbody tr th:only-of-type {\n",
       "        vertical-align: middle;\n",
       "    }\n",
       "\n",
       "    .dataframe tbody tr th {\n",
       "        vertical-align: top;\n",
       "    }\n",
       "\n",
       "    .dataframe thead th {\n",
       "        text-align: right;\n",
       "    }\n",
       "</style>\n",
       "<table border=\"1\" class=\"dataframe\">\n",
       "  <thead>\n",
       "    <tr style=\"text-align: right;\">\n",
       "      <th></th>\n",
       "      <th>ANIMAL_TYPE</th>\n",
       "      <th>FARM_TYPE</th>\n",
       "      <th>PROVINCE</th>\n",
       "      <th>REGION</th>\n",
       "      <th>QUARTER</th>\n",
       "      <th>LIVESTOCK_COUNT</th>\n",
       "    </tr>\n",
       "  </thead>\n",
       "  <tbody>\n",
       "    <tr>\n",
       "      <th>0</th>\n",
       "      <td>Carabao</td>\n",
       "      <td>Backyard</td>\n",
       "      <td>NCR</td>\n",
       "      <td>NCR</td>\n",
       "      <td>1994_01_JANUARY</td>\n",
       "      <td>-1.0</td>\n",
       "    </tr>\n",
       "    <tr>\n",
       "      <th>1</th>\n",
       "      <td>Carabao</td>\n",
       "      <td>Backyard</td>\n",
       "      <td>Abra</td>\n",
       "      <td>CAR</td>\n",
       "      <td>1994_01_JANUARY</td>\n",
       "      <td>24784.0</td>\n",
       "    </tr>\n",
       "    <tr>\n",
       "      <th>2</th>\n",
       "      <td>Carabao</td>\n",
       "      <td>Backyard</td>\n",
       "      <td>Apayao</td>\n",
       "      <td>CAR</td>\n",
       "      <td>1994_01_JANUARY</td>\n",
       "      <td>-1.0</td>\n",
       "    </tr>\n",
       "    <tr>\n",
       "      <th>3</th>\n",
       "      <td>Carabao</td>\n",
       "      <td>Backyard</td>\n",
       "      <td>Benguet</td>\n",
       "      <td>CAR</td>\n",
       "      <td>1994_01_JANUARY</td>\n",
       "      <td>7503.0</td>\n",
       "    </tr>\n",
       "    <tr>\n",
       "      <th>4</th>\n",
       "      <td>Carabao</td>\n",
       "      <td>Backyard</td>\n",
       "      <td>Ifugao</td>\n",
       "      <td>CAR</td>\n",
       "      <td>1994_01_JANUARY</td>\n",
       "      <td>16626.0</td>\n",
       "    </tr>\n",
       "  </tbody>\n",
       "</table>\n",
       "</div>"
      ],
      "text/plain": [
       "  ANIMAL_TYPE FARM_TYPE PROVINCE REGION          QUARTER  LIVESTOCK_COUNT\n",
       "0     Carabao  Backyard      NCR    NCR  1994_01_JANUARY             -1.0\n",
       "1     Carabao  Backyard     Abra    CAR  1994_01_JANUARY          24784.0\n",
       "2     Carabao  Backyard   Apayao    CAR  1994_01_JANUARY             -1.0\n",
       "3     Carabao  Backyard  Benguet    CAR  1994_01_JANUARY           7503.0\n",
       "4     Carabao  Backyard   Ifugao    CAR  1994_01_JANUARY          16626.0"
      ]
     },
     "execution_count": 496,
     "metadata": {},
     "output_type": "execute_result"
    }
   ],
   "source": [
    "melted_livestock.head()"
   ]
  },
  {
   "cell_type": "code",
   "execution_count": 497,
   "id": "fccf2bac",
   "metadata": {},
   "outputs": [],
   "source": [
    "# Turning these columns into 'category' datatype\n",
    "melted_livestock['PROVINCE'] = melted_livestock['PROVINCE'].astype('category')\n",
    "melted_livestock['REGION'] = melted_livestock['REGION'].astype('category')\n",
    "melted_livestock['QUARTER'] = melted_livestock['QUARTER'].astype('category')"
   ]
  },
  {
   "cell_type": "markdown",
   "id": "ce99a930-1306-456b-be2a-74c2bcc84483",
   "metadata": {},
   "source": [
    "#### ➡️ New Data Dictionary for melted_livestock Dataframe"
   ]
  },
  {
   "cell_type": "code",
   "execution_count": 498,
   "id": "b282975d-9d61-4f80-ad9f-93d4684e50be",
   "metadata": {},
   "outputs": [],
   "source": [
    "def new_dd(df):\n",
    "    descriptions = {\n",
    "        'ANIMAL_TYPE': 'Type of animal present in the farm.',\n",
    "        'FARM_TYPE': 'Type of farm where the animals are.',\n",
    "        'PROVINCE': 'Specific province in the Philippines',\n",
    "        'REGION': 'Region in the Philippines',\n",
    "        'QUARTER': 'Quarter of the year when the data was recorded.',\n",
    "        'LIVESTOCK_COUNT': 'Number of animals present in the farm as of the specific quarter'\n",
    "    }\n",
    "    \n",
    "    # Create the data dictionary DataFrame\n",
    "    data_dict = pd.DataFrame({\n",
    "        'Column Name': df.columns,\n",
    "        'Data Type': df.dtypes,\n",
    "        'Description': [descriptions.get(col, 'No description available') for col in df.columns]\n",
    "    })\n",
    "    \n",
    "    return data_dict"
   ]
  },
  {
   "cell_type": "code",
   "execution_count": 499,
   "id": "88f71546-9ed6-4b83-be99-4665323ef4fa",
   "metadata": {},
   "outputs": [],
   "source": [
    "new_dd = new_dd(melted_livestock)"
   ]
  },
  {
   "cell_type": "code",
   "execution_count": 500,
   "id": "1f4286a5-61d9-4a07-8019-18862cbcb3c3",
   "metadata": {},
   "outputs": [
    {
     "name": "stdout",
     "output_type": "stream",
     "text": [
      "| Column Name     | Data Type   | Description                                                      |\n",
      "|:----------------|:------------|:-----------------------------------------------------------------|\n",
      "| ANIMAL_TYPE     | category    | Type of animal present in the farm.                              |\n",
      "| FARM_TYPE       | category    | Type of farm where the animals are.                              |\n",
      "| PROVINCE        | category    | Specific province in the Philippines                             |\n",
      "| REGION          | category    | Region in the Philippines                                        |\n",
      "| QUARTER         | category    | Quarter of the year when the data was recorded.                  |\n",
      "| LIVESTOCK_COUNT | float64     | Number of animals present in the farm as of the specific quarter |\n"
     ]
    }
   ],
   "source": [
    "print(new_dd.to_markdown(index=False))"
   ]
  },
  {
   "cell_type": "markdown",
   "id": "7068c594-d4f6-4b40-93a7-697d71159dcb",
   "metadata": {},
   "source": [
    "#### ➡️ Save Cleaned Data"
   ]
  },
  {
   "cell_type": "markdown",
   "id": "4970d09d-e15b-45de-a63f-17216dfeddbb",
   "metadata": {},
   "source": [
    "Create a new CSV file with the melted and cleaned `2E4FINL0` data."
   ]
  },
  {
   "cell_type": "code",
   "execution_count": 501,
   "id": "89bca4e7-d7f0-4161-b526-0a7002734c0c",
   "metadata": {},
   "outputs": [],
   "source": [
    "# melted_livestock.to_csv('2E4FINL0_cleaned.csv', index=False)"
   ]
  },
  {
   "cell_type": "markdown",
   "id": "b78ec6c0",
   "metadata": {},
   "source": [
    "### 1.4 Visualization"
   ]
  },
  {
   "cell_type": "markdown",
   "id": "e3d64187",
   "metadata": {},
   "source": [
    "#### ➡️ Visualizing through Bar Graph"
   ]
  },
  {
   "cell_type": "code",
   "execution_count": 502,
   "id": "df2457a7",
   "metadata": {},
   "outputs": [],
   "source": [
    "# Make a copy of the melted DataFrame\n",
    "carabao_backyard = melted_livestock.copy()\n",
    "\n",
    "# Filter for specific Animal Type and Farm Type\n",
    "filtered_livestock = carabao_backyard[\n",
    "    (carabao_backyard['ANIMAL_TYPE'] == 'Carabao') &\n",
    "    (carabao_backyard['FARM_TYPE'] == 'Backyard')\n",
    "]\n",
    "\n",
    "# Group by REGION and get the the sum of LIVESTOCK_COUNT\n",
    "carabao_backyard = filtered_livestock.groupby('REGION', as_index=False).agg(\n",
    "    LIVESTOCK_COUNT=('LIVESTOCK_COUNT', 'sum')  \n",
    ")\n",
    "\n",
    "# Include the Animal Type and Farm Type columns in the carabao_backyard grouped dataset.\n",
    "carabao_backyard['ANIMAL_TYPE'] = 'Carabao'\n",
    "carabao_backyard['FARM_TYPE'] = 'Backyard'"
   ]
  },
  {
   "cell_type": "code",
   "execution_count": 503,
   "id": "1ce23615",
   "metadata": {},
   "outputs": [
    {
     "data": {
      "text/html": [
       "<div>\n",
       "<style scoped>\n",
       "    .dataframe tbody tr th:only-of-type {\n",
       "        vertical-align: middle;\n",
       "    }\n",
       "\n",
       "    .dataframe tbody tr th {\n",
       "        vertical-align: top;\n",
       "    }\n",
       "\n",
       "    .dataframe thead th {\n",
       "        text-align: right;\n",
       "    }\n",
       "</style>\n",
       "<table border=\"1\" class=\"dataframe\">\n",
       "  <thead>\n",
       "    <tr style=\"text-align: right;\">\n",
       "      <th></th>\n",
       "      <th>REGION</th>\n",
       "      <th>LIVESTOCK_COUNT</th>\n",
       "      <th>ANIMAL_TYPE</th>\n",
       "      <th>FARM_TYPE</th>\n",
       "    </tr>\n",
       "  </thead>\n",
       "  <tbody>\n",
       "    <tr>\n",
       "      <th>0</th>\n",
       "      <td>BARMM</td>\n",
       "      <td>17250187.0</td>\n",
       "      <td>Carabao</td>\n",
       "      <td>Backyard</td>\n",
       "    </tr>\n",
       "    <tr>\n",
       "      <th>1</th>\n",
       "      <td>CAR</td>\n",
       "      <td>10674878.0</td>\n",
       "      <td>Carabao</td>\n",
       "      <td>Backyard</td>\n",
       "    </tr>\n",
       "    <tr>\n",
       "      <th>2</th>\n",
       "      <td>MIMAROPA</td>\n",
       "      <td>16479977.0</td>\n",
       "      <td>Carabao</td>\n",
       "      <td>Backyard</td>\n",
       "    </tr>\n",
       "    <tr>\n",
       "      <th>3</th>\n",
       "      <td>NCR</td>\n",
       "      <td>-117.0</td>\n",
       "      <td>Carabao</td>\n",
       "      <td>Backyard</td>\n",
       "    </tr>\n",
       "    <tr>\n",
       "      <th>4</th>\n",
       "      <td>Region_I</td>\n",
       "      <td>22437748.0</td>\n",
       "      <td>Carabao</td>\n",
       "      <td>Backyard</td>\n",
       "    </tr>\n",
       "    <tr>\n",
       "      <th>5</th>\n",
       "      <td>Region_II</td>\n",
       "      <td>33303110.0</td>\n",
       "      <td>Carabao</td>\n",
       "      <td>Backyard</td>\n",
       "    </tr>\n",
       "    <tr>\n",
       "      <th>6</th>\n",
       "      <td>Region_III</td>\n",
       "      <td>24220385.0</td>\n",
       "      <td>Carabao</td>\n",
       "      <td>Backyard</td>\n",
       "    </tr>\n",
       "    <tr>\n",
       "      <th>7</th>\n",
       "      <td>Region_IV</td>\n",
       "      <td>17740369.0</td>\n",
       "      <td>Carabao</td>\n",
       "      <td>Backyard</td>\n",
       "    </tr>\n",
       "    <tr>\n",
       "      <th>8</th>\n",
       "      <td>Region_IX</td>\n",
       "      <td>20579051.0</td>\n",
       "      <td>Carabao</td>\n",
       "      <td>Backyard</td>\n",
       "    </tr>\n",
       "    <tr>\n",
       "      <th>9</th>\n",
       "      <td>Region_V</td>\n",
       "      <td>31680519.0</td>\n",
       "      <td>Carabao</td>\n",
       "      <td>Backyard</td>\n",
       "    </tr>\n",
       "    <tr>\n",
       "      <th>10</th>\n",
       "      <td>Region_VI</td>\n",
       "      <td>35436804.0</td>\n",
       "      <td>Carabao</td>\n",
       "      <td>Backyard</td>\n",
       "    </tr>\n",
       "    <tr>\n",
       "      <th>11</th>\n",
       "      <td>Region_VII</td>\n",
       "      <td>19506445.0</td>\n",
       "      <td>Carabao</td>\n",
       "      <td>Backyard</td>\n",
       "    </tr>\n",
       "    <tr>\n",
       "      <th>12</th>\n",
       "      <td>Region_VIII</td>\n",
       "      <td>28060162.0</td>\n",
       "      <td>Carabao</td>\n",
       "      <td>Backyard</td>\n",
       "    </tr>\n",
       "    <tr>\n",
       "      <th>13</th>\n",
       "      <td>Region_X</td>\n",
       "      <td>15870790.0</td>\n",
       "      <td>Carabao</td>\n",
       "      <td>Backyard</td>\n",
       "    </tr>\n",
       "    <tr>\n",
       "      <th>14</th>\n",
       "      <td>Region_XI</td>\n",
       "      <td>19176674.0</td>\n",
       "      <td>Carabao</td>\n",
       "      <td>Backyard</td>\n",
       "    </tr>\n",
       "    <tr>\n",
       "      <th>15</th>\n",
       "      <td>Region_XII</td>\n",
       "      <td>29008971.0</td>\n",
       "      <td>Carabao</td>\n",
       "      <td>Backyard</td>\n",
       "    </tr>\n",
       "    <tr>\n",
       "      <th>16</th>\n",
       "      <td>Region_XIII</td>\n",
       "      <td>10840564.0</td>\n",
       "      <td>Carabao</td>\n",
       "      <td>Backyard</td>\n",
       "    </tr>\n",
       "  </tbody>\n",
       "</table>\n",
       "</div>"
      ],
      "text/plain": [
       "         REGION  LIVESTOCK_COUNT ANIMAL_TYPE FARM_TYPE\n",
       "0         BARMM       17250187.0     Carabao  Backyard\n",
       "1           CAR       10674878.0     Carabao  Backyard\n",
       "2      MIMAROPA       16479977.0     Carabao  Backyard\n",
       "3           NCR           -117.0     Carabao  Backyard\n",
       "4      Region_I       22437748.0     Carabao  Backyard\n",
       "5     Region_II       33303110.0     Carabao  Backyard\n",
       "6    Region_III       24220385.0     Carabao  Backyard\n",
       "7     Region_IV       17740369.0     Carabao  Backyard\n",
       "8     Region_IX       20579051.0     Carabao  Backyard\n",
       "9      Region_V       31680519.0     Carabao  Backyard\n",
       "10    Region_VI       35436804.0     Carabao  Backyard\n",
       "11   Region_VII       19506445.0     Carabao  Backyard\n",
       "12  Region_VIII       28060162.0     Carabao  Backyard\n",
       "13     Region_X       15870790.0     Carabao  Backyard\n",
       "14    Region_XI       19176674.0     Carabao  Backyard\n",
       "15   Region_XII       29008971.0     Carabao  Backyard\n",
       "16  Region_XIII       10840564.0     Carabao  Backyard"
      ]
     },
     "execution_count": 503,
     "metadata": {},
     "output_type": "execute_result"
    }
   ],
   "source": [
    "# Showing all Regions\n",
    "carabao_backyard.head(30)"
   ]
  },
  {
   "cell_type": "code",
   "execution_count": 504,
   "id": "ec151c77",
   "metadata": {},
   "outputs": [
    {
     "data": {
      "image/png": "[encoded data removed]",
      "text/plain": [
       "<Figure size 1200x600 with 1 Axes>"
      ]
     },
     "metadata": {},
     "output_type": "display_data"
    }
   ],
   "source": [
    "\n",
    "# Plotting the bar graph\n",
    "plt.figure(figsize=(12, 6))\n",
    "plt.bar(carabao_backyard['REGION'], carabao_backyard['LIVESTOCK_COUNT'], color='skyblue')\n",
    "\n",
    "plt.title('Total Livestock Count by Region (Carabao - Backyard)', fontsize=16)\n",
    "plt.xlabel('Region', fontsize=14)\n",
    "plt.ylabel('Total Livestock Count', fontsize=14)\n",
    "plt.xticks(rotation=45)  \n",
    "\n",
    "plt.tight_layout()\n",
    "plt.show()"
   ]
  },
  {
   "cell_type": "markdown",
   "id": "51676ad0",
   "metadata": {},
   "source": [
    "#### ➡️ Visualizing through Line Graph"
   ]
  },
  {
   "cell_type": "code",
   "execution_count": 518,
   "id": "2acb2b42",
   "metadata": {},
   "outputs": [
    {
     "data": {
      "image/png": "[encoded data removed]",
      "text/plain": [
       "<Figure size 1500x600 with 1 Axes>"
      ]
     },
     "metadata": {},
     "output_type": "display_data"
    }
   ],
   "source": [
    "carabao_backyard = melted_livestock.copy()\n",
    "\n",
    "# Putting an additional letter before each month to properly plot each Quarter points.\n",
    "carabao_backyard['QUARTER'] = carabao_backyard['QUARTER'].str.replace(\n",
    "    r'(?P<year_month>.*?)(JANUARY|APRIL|JULY|OCTOBER)', \n",
    "    lambda m: f\"{m.group('year_month')}{'A_' if m.group(2) == 'JANUARY' else 'B_' if m.group(2) == 'APRIL' else 'C_' if m.group(2) == 'JULY' else 'D_'}{m.group(2)}\",\n",
    "    regex=True\n",
    ")\n",
    "\n",
    "# Filter the DataFrame for Carabao and Backyard\n",
    "filtered_livestock = carabao_backyard[(carabao_backyard['ANIMAL_TYPE'] == 'Carabao') & \n",
    "                                       (carabao_backyard['FARM_TYPE'] == 'Backyard')]\n",
    "\n",
    "# Group by QUARTER and REGION, summing up LIVESTOCK_COUNT\n",
    "grouped_data = filtered_livestock.groupby(['QUARTER', 'REGION'])['LIVESTOCK_COUNT'].sum().reset_index()\n",
    "\n",
    "# Pivot the data for plotting\n",
    "pivot_data = grouped_data.pivot(index='QUARTER', columns='REGION', values='LIVESTOCK_COUNT').fillna(0)\n",
    "\n",
    "# Creating the line graph\n",
    "plt.figure(figsize=(15, 6))\n",
    "for region in pivot_data.columns:\n",
    "    plt.plot(pivot_data.index, pivot_data[region], marker='o', label=region)\n",
    "plt.title('Total Livestock Count of Carabao in Backyard Farms by Quarter', fontsize=16)\n",
    "plt.xlabel('Quarter', fontsize=14)\n",
    "plt.ylabel('Total Livestock Count', fontsize=14)\n",
    "visible_quarters = ['1994_01_A_JANUARY', '2004_01_A_JANUARY', '2014_01_A_JANUARY', '2023_01_A_JANUARY']\n",
    "plt.xticks(ticks=[pivot_data.index.get_loc(q) for q in visible_quarters if q in pivot_data.index], \n",
    "           labels=visible_quarters)\n",
    "plt.legend(title='Region', bbox_to_anchor=(1.05, 1))\n",
    "plt.grid()\n",
    "\n",
    "plt.tight_layout()\n",
    "plt.show()"
   ]
  },
  {
   "cell_type": "code",
   "execution_count": null,
   "id": "36dd00d0",
   "metadata": {},
   "outputs": [],
   "source": [
    "carabao_commercial = melted_livestock.copy()\n",
    "\n",
    "# Putting an additional letter before each month to properly plot each Quarter points.\n",
    "carabao_backyard['QUARTER'] = carabao_backyard['QUARTER'].str.replace(\n",
    "    r'(?P<year_month>.*?)(JANUARY|APRIL|JULY|OCTOBER)', \n",
    "    lambda m: f\"{m.group('year_month')}{'A_' if m.group(2) == 'JANUARY' else 'B_' if m.group(2) == 'APRIL' else 'C_' if m.group(2) == 'JULY' else 'D_'}{m.group(2)}\",\n",
    "    regex=True\n",
    ")\n",
    "\n",
    "# Filter the DataFrame for Carabao and Backyard\n",
    "filtered_livestock = carabao_backyard[(carabao_backyard['ANIMAL_TYPE'] == 'Carabao') & \n",
    "                                       (carabao_backyard['FARM_TYPE'] == 'Backyard')]\n",
    "\n",
    "# Group by QUARTER and REGION, summing up LIVESTOCK_COUNT\n",
    "grouped_data = filtered_livestock.groupby(['QUARTER', 'REGION'])['LIVESTOCK_COUNT'].sum().reset_index()\n",
    "\n",
    "# Pivot the data for plotting\n",
    "pivot_data = grouped_data.pivot(index='QUARTER', columns='REGION', values='LIVESTOCK_COUNT').fillna(0)\n",
    "\n",
    "# Creating the line graph\n",
    "plt.figure(figsize=(15, 6))\n",
    "for region in pivot_data.columns:\n",
    "    plt.plot(pivot_data.index, pivot_data[region], marker='o', label=region)\n",
    "plt.title('Total Livestock Count of Carabao in Backyard Farms by Quarter', fontsize=16)\n",
    "plt.xlabel('Quarter', fontsize=14)\n",
    "plt.ylabel('Total Livestock Count', fontsize=14)\n",
    "visible_quarters = ['1994_01_A_JANUARY', '2004_01_A_JANUARY', '2014_01_A_JANUARY', '2023_01_A_JANUARY']\n",
    "plt.xticks(ticks=[pivot_data.index.get_loc(q) for q in visible_quarters if q in pivot_data.index], \n",
    "           labels=visible_quarters)\n",
    "plt.legend(title='Region', bbox_to_anchor=(1.05, 1))\n",
    "plt.grid()\n",
    "\n",
    "plt.tight_layout()\n",
    "plt.show()"
   ]
  },
  {
   "cell_type": "markdown",
   "id": "471dabfd",
   "metadata": {},
   "source": [
    "#### ➡️ Visualizing through Box Plot"
   ]
  },
  {
   "cell_type": "code",
   "execution_count": 526,
   "id": "2c46a700",
   "metadata": {},
   "outputs": [
    {
     "data": {
      "image/png": "[encoded data removed]",
      "text/plain": [
       "<Figure size 1200x600 with 1 Axes>"
      ]
     },
     "metadata": {},
     "output_type": "display_data"
    }
   ],
   "source": [
    "import seaborn as sns\n",
    "\n",
    "plt.figure(figsize=(12, 6))\n",
    "sns.boxplot(x='ANIMAL_TYPE', y='LIVESTOCK_COUNT', data=melted_livestock)\n",
    "\n",
    "plt.title('Distribution of Livestock Count by Animal Type', fontsize=16)\n",
    "plt.xlabel('Animal Type', fontsize=14)\n",
    "plt.ylabel('Livestock Count', fontsize=14)\n",
    "plt.xticks(rotation=45)\n",
    "plt.grid()\n",
    "\n",
    "plt.tight_layout()\n",
    "plt.show()\n",
    "\n"
   ]
  },
  {
   "cell_type": "markdown",
   "id": "7144199f",
   "metadata": {},
   "source": [
    "### 1.5 Insights"
   ]
  }
 ],
 "metadata": {
  "kernelspec": {
   "display_name": "Python 3",
   "language": "python",
   "name": "python3"
  },
  "language_info": {
   "codemirror_mode": {
    "name": "ipython",
    "version": 3
   },
   "file_extension": ".py",
   "mimetype": "text/x-python",
   "name": "python",
   "nbconvert_exporter": "python",
   "pygments_lexer": "ipython3",
   "version": "3.10.4"
  }
 },
 "nbformat": 4,
 "nbformat_minor": 5
}
